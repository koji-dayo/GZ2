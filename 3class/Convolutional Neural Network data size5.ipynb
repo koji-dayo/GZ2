{
 "cells": [
  {
   "cell_type": "code",
   "execution_count": 1,
   "id": "68cf64b4",
   "metadata": {},
   "outputs": [],
   "source": [
    "import csv\n",
    "import pandas as pd\n",
    "import numpy as np\n",
    "import cv2\n",
    "from sklearn.model_selection import train_test_split\n",
    "df = pd.read_csv(\"../../data/data3size5.csv\")\n",
    "y = df['class']"
   ]
  },
  {
   "cell_type": "code",
   "execution_count": 2,
   "id": "c20539e8",
   "metadata": {},
   "outputs": [],
   "source": [
    "img_list = []\n",
    "size = 64\n",
    "for i in range(len(df)):\n",
    "    img_list.append(cv2.resize(cv2.imread(\"../../\"+df.PATH[i]),(size,size)))\n",
    "    \n",
    "X_train, X_test, y_train, y_test = train_test_split(img_list, y, test_size=0.2,random_state=1)\n",
    "X_test,X_val,y_test,y_val = train_test_split(X_test, y_test, test_size=0.5,random_state=1)"
   ]
  },
  {
   "cell_type": "code",
   "execution_count": 3,
   "id": "3c8a2c77",
   "metadata": {},
   "outputs": [],
   "source": [
    "from tensorflow.keras.utils import to_categorical\n",
    "X_train,X_val,X_test = np.array(X_train)/255.,np.array(X_val)/255.,np.array(X_test)/255.\n",
    "y_train,y_val,y_test =  to_categorical((np.array(y_train)),3),to_categorical((np.array(y_val)),3),to_categorical((np.array(y_test)),3)"
   ]
  },
  {
   "cell_type": "code",
   "execution_count": 4,
   "id": "0f560532",
   "metadata": {},
   "outputs": [
    {
     "name": "stdout",
     "output_type": "stream",
     "text": [
      "Model: \"sequential\"\n",
      "_________________________________________________________________\n",
      "Layer (type)                 Output Shape              Param #   \n",
      "=================================================================\n",
      "conv2d (Conv2D)              (None, 62, 62, 4)         112       \n",
      "_________________________________________________________________\n",
      "max_pooling2d (MaxPooling2D) (None, 31, 31, 4)         0         \n",
      "_________________________________________________________________\n",
      "conv2d_1 (Conv2D)            (None, 29, 29, 8)         296       \n",
      "_________________________________________________________________\n",
      "max_pooling2d_1 (MaxPooling2 (None, 14, 14, 8)         0         \n",
      "_________________________________________________________________\n",
      "conv2d_2 (Conv2D)            (None, 12, 12, 16)        1168      \n",
      "_________________________________________________________________\n",
      "max_pooling2d_2 (MaxPooling2 (None, 6, 6, 16)          0         \n",
      "_________________________________________________________________\n",
      "conv2d_3 (Conv2D)            (None, 4, 4, 32)          4640      \n",
      "_________________________________________________________________\n",
      "max_pooling2d_3 (MaxPooling2 (None, 2, 2, 32)          0         \n",
      "_________________________________________________________________\n",
      "flatten (Flatten)            (None, 128)               0         \n",
      "_________________________________________________________________\n",
      "dense (Dense)                (None, 64)                8256      \n",
      "_________________________________________________________________\n",
      "dense_1 (Dense)              (None, 3)                 195       \n",
      "=================================================================\n",
      "Total params: 14,667\n",
      "Trainable params: 14,667\n",
      "Non-trainable params: 0\n",
      "_________________________________________________________________\n"
     ]
    }
   ],
   "source": [
    "#モデルの設定\n",
    "from tensorflow.keras import layers,models,initializers\n",
    "from tensorflow.keras.preprocessing.image import ImageDataGenerator\n",
    "import tensorflow as tf\n",
    "from tensorflow.keras.models import Sequential\n",
    "from tensorflow.keras.layers import Convolution2D, MaxPooling2D\n",
    "from tensorflow.keras.layers import Activation, Dropout, Flatten, Dense\n",
    "import sys\n",
    "\n",
    "model = models.Sequential()\n",
    "model.add(layers.Conv2D(4, (3, 3), activation='relu', input_shape=(size, size, 3)))\n",
    "model.add(layers.MaxPooling2D((2, 2)))\n",
    "\n",
    "model.add(layers.Conv2D(8, (3, 3), activation='relu'))\n",
    "model.add(MaxPooling2D(pool_size=(2, 2)))\n",
    "\n",
    "model.add(layers.Conv2D(16, (3, 3), activation='relu'))\n",
    "model.add(MaxPooling2D(pool_size=(2, 2)))\n",
    "\n",
    "model.add(layers.Conv2D(32, (3, 3), activation='relu'))\n",
    "model.add(MaxPooling2D(pool_size=(2, 2)))\n",
    "\n",
    "model.add(layers.Flatten())\n",
    "model.add(layers.Dense(64, activation='relu'))\n",
    "model.add(layers.Dense(3, activation='softmax'))\n",
    "model.summary()"
   ]
  },
  {
   "cell_type": "code",
   "execution_count": 5,
   "id": "a7fd5ad2",
   "metadata": {},
   "outputs": [
    {
     "name": "stdout",
     "output_type": "stream",
     "text": [
      "Epoch 1/20\n",
      "591/591 [==============================] - 17s 28ms/step - loss: 0.8346 - accuracy: 0.6364 - val_loss: 0.7068 - val_accuracy: 0.7227\n",
      "Epoch 2/20\n",
      "591/591 [==============================] - 14s 24ms/step - loss: 0.7026 - accuracy: 0.7195 - val_loss: 0.6630 - val_accuracy: 0.7298\n",
      "Epoch 3/20\n",
      "591/591 [==============================] - 14s 24ms/step - loss: 0.6591 - accuracy: 0.7308 - val_loss: 0.6285 - val_accuracy: 0.7452\n",
      "Epoch 4/20\n",
      "591/591 [==============================] - 14s 24ms/step - loss: 0.6288 - accuracy: 0.7410 - val_loss: 0.6377 - val_accuracy: 0.7311\n",
      "Epoch 5/20\n",
      "591/591 [==============================] - 15s 25ms/step - loss: 0.6090 - accuracy: 0.7472 - val_loss: 0.5846 - val_accuracy: 0.7601\n",
      "Epoch 6/20\n",
      "591/591 [==============================] - 14s 24ms/step - loss: 0.5885 - accuracy: 0.7542 - val_loss: 0.5684 - val_accuracy: 0.7664\n",
      "Epoch 7/20\n",
      "591/591 [==============================] - 14s 24ms/step - loss: 0.5769 - accuracy: 0.7605 - val_loss: 0.5631 - val_accuracy: 0.7682\n",
      "Epoch 8/20\n",
      "591/591 [==============================] - 15s 25ms/step - loss: 0.5586 - accuracy: 0.7675 - val_loss: 0.5523 - val_accuracy: 0.7729\n",
      "Epoch 9/20\n",
      "591/591 [==============================] - 14s 24ms/step - loss: 0.5534 - accuracy: 0.7701 - val_loss: 0.5450 - val_accuracy: 0.7742\n",
      "Epoch 10/20\n",
      "591/591 [==============================] - 14s 24ms/step - loss: 0.5430 - accuracy: 0.7752 - val_loss: 0.5355 - val_accuracy: 0.7778\n",
      "Epoch 11/20\n",
      "591/591 [==============================] - 14s 24ms/step - loss: 0.5361 - accuracy: 0.7775 - val_loss: 0.5394 - val_accuracy: 0.7771\n",
      "Epoch 12/20\n",
      "591/591 [==============================] - 14s 24ms/step - loss: 0.5313 - accuracy: 0.7777 - val_loss: 0.5471 - val_accuracy: 0.7786\n",
      "Epoch 13/20\n",
      "591/591 [==============================] - 14s 24ms/step - loss: 0.5288 - accuracy: 0.7801 - val_loss: 0.5300 - val_accuracy: 0.7794\n",
      "Epoch 14/20\n",
      "591/591 [==============================] - 14s 24ms/step - loss: 0.5241 - accuracy: 0.7794 - val_loss: 0.5267 - val_accuracy: 0.7819\n",
      "Epoch 15/20\n",
      "591/591 [==============================] - 14s 24ms/step - loss: 0.5179 - accuracy: 0.7839 - val_loss: 0.5219 - val_accuracy: 0.7825\n",
      "Epoch 16/20\n",
      "591/591 [==============================] - 15s 25ms/step - loss: 0.5229 - accuracy: 0.7809 - val_loss: 0.5188 - val_accuracy: 0.7825\n",
      "Epoch 17/20\n",
      "591/591 [==============================] - 14s 24ms/step - loss: 0.5139 - accuracy: 0.7855 - val_loss: 0.5287 - val_accuracy: 0.7825\n",
      "Epoch 18/20\n",
      "591/591 [==============================] - 14s 24ms/step - loss: 0.5041 - accuracy: 0.7893 - val_loss: 0.5422 - val_accuracy: 0.7763\n",
      "Epoch 19/20\n",
      "591/591 [==============================] - 14s 24ms/step - loss: 0.5059 - accuracy: 0.7888 - val_loss: 0.5166 - val_accuracy: 0.7861\n",
      "Epoch 20/20\n",
      "591/591 [==============================] - 14s 24ms/step - loss: 0.5001 - accuracy: 0.7921 - val_loss: 0.5136 - val_accuracy: 0.7860\n"
     ]
    }
   ],
   "source": [
    "from tensorflow.python.keras.callbacks import TensorBoard\n",
    "\n",
    "model.compile(\n",
    "   optimizer = 'adam',\n",
    "    loss='categorical_crossentropy',\n",
    "    metrics=['accuracy'])\n",
    "\n",
    "#tsb = TensorBoard(log_dir='./logs')\n",
    "history = model.fit(X_train, y_train,\n",
    "          batch_size=128,\n",
    "          epochs=20,\n",
    "          validation_data=(X_val,y_val))"
   ]
  },
  {
   "cell_type": "code",
   "execution_count": 6,
   "id": "ab3e0836",
   "metadata": {},
   "outputs": [
    {
     "data": {
      "image/png": "[encoded data removed]",
      "text/plain": [
       "<Figure size 640x480 with 1 Axes>"
      ]
     },
     "metadata": {},
     "output_type": "display_data"
    }
   ],
   "source": [
    "import matplotlib.pyplot as plt\n",
    "plt.plot(history.epoch, history.history[\"accuracy\"], label=\"accuracy\")\n",
    "plt.plot(history.epoch, history.history[\"loss\"], label=\"loss\")\n",
    "plt.plot(history.epoch, history.history[\"val_accuracy\"], label=\"val_accuracy\")\n",
    "plt.plot(history.epoch, history.history[\"val_loss\"], label=\"val_loss\")\n",
    "plt.xlabel(\"epoch\")\n",
    "plt.legend()\n",
    "plt.show()"
   ]
  },
  {
   "cell_type": "code",
   "execution_count": 7,
   "id": "caab0512",
   "metadata": {},
   "outputs": [
    {
     "name": "stdout",
     "output_type": "stream",
     "text": [
      "<class 'tensorflow.python.keras.callbacks.History'>\n",
      "Test loss: 0.5225616693496704\n",
      "Test accuracy: 0.7778483033180237\n"
     ]
    }
   ],
   "source": [
    "print(type(history))\n",
    "score = model.evaluate(X_test, y_test, verbose=0,batch_size=128)\n",
    "print('Test loss:', score[0])\n",
    "print('Test accuracy:', score[1])"
   ]
  },
  {
   "cell_type": "code",
   "execution_count": 8,
   "id": "7295f821",
   "metadata": {},
   "outputs": [
    {
     "data": {
      "text/html": [
       "<div>\n",
       "<style scoped>\n",
       "    .dataframe tbody tr th:only-of-type {\n",
       "        vertical-align: middle;\n",
       "    }\n",
       "\n",
       "    .dataframe tbody tr th {\n",
       "        vertical-align: top;\n",
       "    }\n",
       "\n",
       "    .dataframe thead th {\n",
       "        text-align: right;\n",
       "    }\n",
       "</style>\n",
       "<table border=\"1\" class=\"dataframe\">\n",
       "  <thead>\n",
       "    <tr style=\"text-align: right;\">\n",
       "      <th></th>\n",
       "      <th>0</th>\n",
       "    </tr>\n",
       "  </thead>\n",
       "  <tbody>\n",
       "    <tr>\n",
       "      <th>0</th>\n",
       "      <td>0.719230</td>\n",
       "    </tr>\n",
       "    <tr>\n",
       "      <th>1</th>\n",
       "      <td>0.590382</td>\n",
       "    </tr>\n",
       "    <tr>\n",
       "      <th>2</th>\n",
       "      <td>0.522046</td>\n",
       "    </tr>\n",
       "    <tr>\n",
       "      <th>3</th>\n",
       "      <td>0.496162</td>\n",
       "    </tr>\n",
       "    <tr>\n",
       "      <th>4</th>\n",
       "      <td>0.479375</td>\n",
       "    </tr>\n",
       "    <tr>\n",
       "      <th>5</th>\n",
       "      <td>0.463055</td>\n",
       "    </tr>\n",
       "    <tr>\n",
       "      <th>6</th>\n",
       "      <td>0.451433</td>\n",
       "    </tr>\n",
       "    <tr>\n",
       "      <th>7</th>\n",
       "      <td>0.437963</td>\n",
       "    </tr>\n",
       "    <tr>\n",
       "      <th>8</th>\n",
       "      <td>0.422335</td>\n",
       "    </tr>\n",
       "    <tr>\n",
       "      <th>9</th>\n",
       "      <td>0.403748</td>\n",
       "    </tr>\n",
       "    <tr>\n",
       "      <th>10</th>\n",
       "      <td>0.388750</td>\n",
       "    </tr>\n",
       "    <tr>\n",
       "      <th>11</th>\n",
       "      <td>0.367963</td>\n",
       "    </tr>\n",
       "    <tr>\n",
       "      <th>12</th>\n",
       "      <td>0.349035</td>\n",
       "    </tr>\n",
       "    <tr>\n",
       "      <th>13</th>\n",
       "      <td>0.325402</td>\n",
       "    </tr>\n",
       "    <tr>\n",
       "      <th>14</th>\n",
       "      <td>0.304159</td>\n",
       "    </tr>\n",
       "    <tr>\n",
       "      <th>15</th>\n",
       "      <td>0.284597</td>\n",
       "    </tr>\n",
       "    <tr>\n",
       "      <th>16</th>\n",
       "      <td>0.260713</td>\n",
       "    </tr>\n",
       "    <tr>\n",
       "      <th>17</th>\n",
       "      <td>0.239742</td>\n",
       "    </tr>\n",
       "    <tr>\n",
       "      <th>18</th>\n",
       "      <td>0.218897</td>\n",
       "    </tr>\n",
       "    <tr>\n",
       "      <th>19</th>\n",
       "      <td>0.202108</td>\n",
       "    </tr>\n",
       "  </tbody>\n",
       "</table>\n",
       "</div>"
      ],
      "text/plain": [
       "           0\n",
       "0   0.719230\n",
       "1   0.590382\n",
       "2   0.522046\n",
       "3   0.496162\n",
       "4   0.479375\n",
       "5   0.463055\n",
       "6   0.451433\n",
       "7   0.437963\n",
       "8   0.422335\n",
       "9   0.403748\n",
       "10  0.388750\n",
       "11  0.367963\n",
       "12  0.349035\n",
       "13  0.325402\n",
       "14  0.304159\n",
       "15  0.284597\n",
       "16  0.260713\n",
       "17  0.239742\n",
       "18  0.218897\n",
       "19  0.202108"
      ]
     },
     "execution_count": 8,
     "metadata": {},
     "output_type": "execute_result"
    }
   ],
   "source": [
    "pd.DataFrame(history.history[\"loss\"])"
   ]
  },
  {
   "cell_type": "code",
   "execution_count": null,
   "id": "f2e12d95",
   "metadata": {},
   "outputs": [],
   "source": []
  }
 ],
 "metadata": {
  "kernelspec": {
   "display_name": "Python 3",
   "language": "python",
   "name": "python3"
  },
  "language_info": {
   "codemirror_mode": {
    "name": "ipython",
    "version": 3
   },
   "file_extension": ".py",
   "mimetype": "text/x-python",
   "name": "python",
   "nbconvert_exporter": "python",
   "pygments_lexer": "ipython3",
   "version": "3.8.10"
  }
 },
 "nbformat": 4,
 "nbformat_minor": 5
}
