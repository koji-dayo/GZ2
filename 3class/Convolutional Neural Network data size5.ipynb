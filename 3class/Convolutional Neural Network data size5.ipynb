{
 "cells": [
  {
   "cell_type": "code",
   "execution_count": null,
   "id": "f721b2b6",
   "metadata": {},
   "outputs": [],
   "source": [
    "import csv\n",
    "import pandas as pd\n",
    "import numpy as np\n",
    "import cv2\n",
    "from sklearn.model_selection import train_test_split\n",
    "df = pd.read_csv(\"../../data/data3size5.csv\")\n",
    "y = df['class']"
   ]
  },
  {
   "cell_type": "code",
   "execution_count": 2,
   "id": "c20539e8",
   "metadata": {},
   "outputs": [],
   "source": [
    "img_list = []\n",
    "size = 64\n",
    "for i in range(len(df)):\n",
    "    img_list.append(cv2.resize(cv2.imread(\"../../\"+df.PATH[i]),(size,size)))\n",
    "    \n",
    "X_train, X_test, y_train, y_test = train_test_split(img_list, y, test_size=0.2,random_state=1)\n",
    "X_test,X_val,y_test,y_val = train_test_split(X_test, y_test, test_size=0.5,random_state=1)"
   ]
  },
  {
   "cell_type": "code",
   "execution_count": 3,
   "id": "3c8a2c77",
   "metadata": {},
   "outputs": [],
   "source": [
    "from tensorflow.keras.utils import to_categorical\n",
    "X_train,X_val,X_test = np.array(X_train)/255.,np.array(X_val)/255.,np.array(X_test)/255.\n",
    "y_train,y_val,y_test =  to_categorical((np.array(y_train)),3),to_categorical((np.array(y_val)),3),to_categorical((np.array(y_test)),3)"
   ]
  },
  {
   "cell_type": "code",
   "execution_count": 4,
   "id": "0f560532",
   "metadata": {},
   "outputs": [
    {
     "name": "stdout",
     "output_type": "stream",
     "text": [
      "Model: \"sequential\"\n",
      "_________________________________________________________________\n",
      "Layer (type)                 Output Shape              Param #   \n",
      "=================================================================\n",
      "conv2d (Conv2D)              (None, 62, 62, 16)        448       \n",
      "_________________________________________________________________\n",
      "max_pooling2d (MaxPooling2D) (None, 31, 31, 16)        0         \n",
      "_________________________________________________________________\n",
      "conv2d_1 (Conv2D)            (None, 29, 29, 32)        4640      \n",
      "_________________________________________________________________\n",
      "max_pooling2d_1 (MaxPooling2 (None, 14, 14, 32)        0         \n",
      "_________________________________________________________________\n",
      "conv2d_2 (Conv2D)            (None, 12, 12, 64)        18496     \n",
      "_________________________________________________________________\n",
      "max_pooling2d_2 (MaxPooling2 (None, 6, 6, 64)          0         \n",
      "_________________________________________________________________\n",
      "conv2d_3 (Conv2D)            (None, 4, 4, 64)          36928     \n",
      "_________________________________________________________________\n",
      "max_pooling2d_3 (MaxPooling2 (None, 2, 2, 64)          0         \n",
      "_________________________________________________________________\n",
      "flatten (Flatten)            (None, 256)               0         \n",
      "_________________________________________________________________\n",
      "dense (Dense)                (None, 128)               32896     \n",
      "_________________________________________________________________\n",
      "dense_1 (Dense)              (None, 3)                 387       \n",
      "=================================================================\n",
      "Total params: 93,795\n",
      "Trainable params: 93,795\n",
      "Non-trainable params: 0\n",
      "_________________________________________________________________\n"
     ]
    }
   ],
   "source": [
    "#モデルの設定\n",
    "from tensorflow.keras import layers,models,initializers\n",
    "from tensorflow.keras.preprocessing.image import ImageDataGenerator\n",
    "import tensorflow as tf\n",
    "from tensorflow.keras.models import Sequential\n",
    "from tensorflow.keras.layers import Convolution2D, MaxPooling2D\n",
    "from tensorflow.keras.layers import Activation, Dropout, Flatten, Dense\n",
    "import sys\n",
    "\n",
    "model = models.Sequential()\n",
    "model.add(layers.Conv2D(16, (3, 3), activation='relu', input_shape=(size, size, 3)))\n",
    "model.add(layers.MaxPooling2D((2, 2)))\n",
    "\n",
    "model.add(layers.Conv2D(32, (3, 3), activation='relu'))\n",
    "model.add(MaxPooling2D(pool_size=(2, 2)))\n",
    "\n",
    "model.add(layers.Conv2D(64, (3, 3), activation='relu'))\n",
    "model.add(MaxPooling2D(pool_size=(2, 2)))\n",
    "\n",
    "model.add(layers.Conv2D(64, (3, 3), activation='relu'))\n",
    "model.add(MaxPooling2D(pool_size=(2, 2)))\n",
    "\n",
    "model.add(layers.Flatten())\n",
    "model.add(layers.Dense(128, activation='relu'))\n",
    "model.add(layers.Dense(3, activation='softmax'))\n",
    "model.summary()"
   ]
  },
  {
   "cell_type": "code",
   "execution_count": 5,
   "id": "a7fd5ad2",
   "metadata": {},
   "outputs": [
    {
     "name": "stdout",
     "output_type": "stream",
     "text": [
      "Epoch 1/20\n",
      "591/591 [==============================] - 35s 59ms/step - loss: 0.8163 - accuracy: 0.6492 - val_loss: 0.7041 - val_accuracy: 0.7253\n",
      "Epoch 2/20\n",
      "591/591 [==============================] - 33s 55ms/step - loss: 0.7117 - accuracy: 0.7187 - val_loss: 0.6974 - val_accuracy: 0.7216\n",
      "Epoch 3/20\n",
      "591/591 [==============================] - 33s 56ms/step - loss: 0.6742 - accuracy: 0.7284 - val_loss: 0.6373 - val_accuracy: 0.7462\n",
      "Epoch 4/20\n",
      "591/591 [==============================] - 33s 55ms/step - loss: 0.6277 - accuracy: 0.7428 - val_loss: 0.5937 - val_accuracy: 0.7551\n",
      "Epoch 5/20\n",
      "591/591 [==============================] - 33s 55ms/step - loss: 0.6027 - accuracy: 0.7500 - val_loss: 0.5829 - val_accuracy: 0.7605\n",
      "Epoch 6/20\n",
      "591/591 [==============================] - 32s 54ms/step - loss: 0.5848 - accuracy: 0.7584 - val_loss: 0.5854 - val_accuracy: 0.7613\n",
      "Epoch 7/20\n",
      "591/591 [==============================] - 32s 55ms/step - loss: 0.5617 - accuracy: 0.7677 - val_loss: 0.5771 - val_accuracy: 0.7632\n",
      "Epoch 8/20\n",
      "591/591 [==============================] - 32s 54ms/step - loss: 0.5494 - accuracy: 0.7706 - val_loss: 0.5280 - val_accuracy: 0.7815\n",
      "Epoch 9/20\n",
      "591/591 [==============================] - 32s 54ms/step - loss: 0.5335 - accuracy: 0.7793 - val_loss: 0.5182 - val_accuracy: 0.7861\n",
      "Epoch 10/20\n",
      "591/591 [==============================] - 32s 55ms/step - loss: 0.5187 - accuracy: 0.7840 - val_loss: 0.5134 - val_accuracy: 0.7870\n",
      "Epoch 11/20\n",
      "591/591 [==============================] - 32s 54ms/step - loss: 0.5148 - accuracy: 0.7879 - val_loss: 0.5052 - val_accuracy: 0.7918\n",
      "Epoch 12/20\n",
      "591/591 [==============================] - 32s 54ms/step - loss: 0.5059 - accuracy: 0.7912 - val_loss: 0.5024 - val_accuracy: 0.7925\n",
      "Epoch 13/20\n",
      "591/591 [==============================] - 32s 54ms/step - loss: 0.4956 - accuracy: 0.7944 - val_loss: 0.5106 - val_accuracy: 0.7872\n",
      "Epoch 14/20\n",
      "591/591 [==============================] - 32s 54ms/step - loss: 0.4890 - accuracy: 0.7992 - val_loss: 0.4969 - val_accuracy: 0.7932\n",
      "Epoch 15/20\n",
      "591/591 [==============================] - 32s 54ms/step - loss: 0.4816 - accuracy: 0.7986 - val_loss: 0.4980 - val_accuracy: 0.7924\n",
      "Epoch 16/20\n",
      "591/591 [==============================] - 32s 54ms/step - loss: 0.4810 - accuracy: 0.8001 - val_loss: 0.5006 - val_accuracy: 0.7924\n",
      "Epoch 17/20\n",
      "591/591 [==============================] - 33s 55ms/step - loss: 0.4787 - accuracy: 0.7997 - val_loss: 0.4901 - val_accuracy: 0.7961\n",
      "Epoch 18/20\n",
      "591/591 [==============================] - 32s 55ms/step - loss: 0.4717 - accuracy: 0.8043 - val_loss: 0.5256 - val_accuracy: 0.7821\n",
      "Epoch 19/20\n",
      "591/591 [==============================] - 32s 54ms/step - loss: 0.4667 - accuracy: 0.8062 - val_loss: 0.4796 - val_accuracy: 0.7997\n",
      "Epoch 20/20\n",
      "591/591 [==============================] - 32s 54ms/step - loss: 0.4627 - accuracy: 0.8070 - val_loss: 0.4992 - val_accuracy: 0.7919\n"
     ]
    }
   ],
   "source": [
    "from tensorflow.python.keras.callbacks import TensorBoard\n",
    "\n",
    "model.compile(\n",
    "   optimizer = 'adamax',\n",
    "    loss='categorical_crossentropy',\n",
    "    metrics=['accuracy'])\n",
    "\n",
    "#tsb = TensorBoard(log_dir='./logs')\n",
    "history = model.fit(X_train, y_train,\n",
    "          batch_size=128,\n",
    "          epochs=20,\n",
    "          validation_data=(X_val,y_val))"
   ]
  },
  {
   "cell_type": "code",
   "execution_count": 6,
   "id": "ab3e0836",
   "metadata": {},
   "outputs": [
    {
     "data": {
      "image/png": "[encoded data removed]",
      "text/plain": [
       "<Figure size 640x480 with 1 Axes>"
      ]
     },
     "metadata": {},
     "output_type": "display_data"
    }
   ],
   "source": [
    "import matplotlib.pyplot as plt\n",
    "plt.plot(history.epoch, history.history[\"accuracy\"], label=\"accuracy\")\n",
    "plt.plot(history.epoch, history.history[\"loss\"], label=\"loss\")\n",
    "plt.plot(history.epoch, history.history[\"val_accuracy\"], label=\"val_accuracy\")\n",
    "plt.plot(history.epoch, history.history[\"val_loss\"], label=\"val_loss\")\n",
    "plt.xlabel(\"epoch\")\n",
    "plt.legend()\n",
    "plt.show()"
   ]
  },
  {
   "cell_type": "code",
   "execution_count": 7,
   "id": "caab0512",
   "metadata": {},
   "outputs": [
    {
     "name": "stdout",
     "output_type": "stream",
     "text": [
      "<class 'tensorflow.python.keras.callbacks.History'>\n",
      "Test loss: 0.5151278972625732\n",
      "Test accuracy: 0.7822913527488708\n"
     ]
    }
   ],
   "source": [
    "print(type(history))\n",
    "score = model.evaluate(X_test, y_test, verbose=0,batch_size=128)\n",
    "print('Test loss:', score[0])\n",
    "print('Test accuracy:', score[1])"
   ]
  },
  {
   "cell_type": "code",
   "execution_count": 8,
   "id": "7295f821",
   "metadata": {},
   "outputs": [
    {
     "data": {
      "text/html": [
       "<div>\n",
       "<style scoped>\n",
       "    .dataframe tbody tr th:only-of-type {\n",
       "        vertical-align: middle;\n",
       "    }\n",
       "\n",
       "    .dataframe tbody tr th {\n",
       "        vertical-align: top;\n",
       "    }\n",
       "\n",
       "    .dataframe thead th {\n",
       "        text-align: right;\n",
       "    }\n",
       "</style>\n",
       "<table border=\"1\" class=\"dataframe\">\n",
       "  <thead>\n",
       "    <tr style=\"text-align: right;\">\n",
       "      <th></th>\n",
       "      <th>0</th>\n",
       "    </tr>\n",
       "  </thead>\n",
       "  <tbody>\n",
       "    <tr>\n",
       "      <th>0</th>\n",
       "      <td>0.766594</td>\n",
       "    </tr>\n",
       "    <tr>\n",
       "      <th>1</th>\n",
       "      <td>0.710117</td>\n",
       "    </tr>\n",
       "    <tr>\n",
       "      <th>2</th>\n",
       "      <td>0.683892</td>\n",
       "    </tr>\n",
       "    <tr>\n",
       "      <th>3</th>\n",
       "      <td>0.653313</td>\n",
       "    </tr>\n",
       "    <tr>\n",
       "      <th>4</th>\n",
       "      <td>0.633217</td>\n",
       "    </tr>\n",
       "    <tr>\n",
       "      <th>5</th>\n",
       "      <td>0.618311</td>\n",
       "    </tr>\n",
       "    <tr>\n",
       "      <th>6</th>\n",
       "      <td>0.604881</td>\n",
       "    </tr>\n",
       "    <tr>\n",
       "      <th>7</th>\n",
       "      <td>0.585901</td>\n",
       "    </tr>\n",
       "    <tr>\n",
       "      <th>8</th>\n",
       "      <td>0.573411</td>\n",
       "    </tr>\n",
       "    <tr>\n",
       "      <th>9</th>\n",
       "      <td>0.561822</td>\n",
       "    </tr>\n",
       "    <tr>\n",
       "      <th>10</th>\n",
       "      <td>0.553871</td>\n",
       "    </tr>\n",
       "    <tr>\n",
       "      <th>11</th>\n",
       "      <td>0.544404</td>\n",
       "    </tr>\n",
       "    <tr>\n",
       "      <th>12</th>\n",
       "      <td>0.536743</td>\n",
       "    </tr>\n",
       "    <tr>\n",
       "      <th>13</th>\n",
       "      <td>0.529584</td>\n",
       "    </tr>\n",
       "    <tr>\n",
       "      <th>14</th>\n",
       "      <td>0.521700</td>\n",
       "    </tr>\n",
       "    <tr>\n",
       "      <th>15</th>\n",
       "      <td>0.516432</td>\n",
       "    </tr>\n",
       "    <tr>\n",
       "      <th>16</th>\n",
       "      <td>0.512921</td>\n",
       "    </tr>\n",
       "    <tr>\n",
       "      <th>17</th>\n",
       "      <td>0.507423</td>\n",
       "    </tr>\n",
       "    <tr>\n",
       "      <th>18</th>\n",
       "      <td>0.503127</td>\n",
       "    </tr>\n",
       "    <tr>\n",
       "      <th>19</th>\n",
       "      <td>0.499421</td>\n",
       "    </tr>\n",
       "  </tbody>\n",
       "</table>\n",
       "</div>"
      ],
      "text/plain": [
       "           0\n",
       "0   0.766594\n",
       "1   0.710117\n",
       "2   0.683892\n",
       "3   0.653313\n",
       "4   0.633217\n",
       "5   0.618311\n",
       "6   0.604881\n",
       "7   0.585901\n",
       "8   0.573411\n",
       "9   0.561822\n",
       "10  0.553871\n",
       "11  0.544404\n",
       "12  0.536743\n",
       "13  0.529584\n",
       "14  0.521700\n",
       "15  0.516432\n",
       "16  0.512921\n",
       "17  0.507423\n",
       "18  0.503127\n",
       "19  0.499421"
      ]
     },
     "execution_count": 8,
     "metadata": {},
     "output_type": "execute_result"
    }
   ],
   "source": [
    "pd.DataFrame(history.history[\"loss\"])"
   ]
  },
  {
   "cell_type": "code",
   "execution_count": null,
   "id": "f2e12d95",
   "metadata": {},
   "outputs": [],
   "source": []
  }
 ],
 "metadata": {
  "kernelspec": {
   "display_name": "Python 3",
   "language": "python",
   "name": "python3"
  },
  "language_info": {
   "codemirror_mode": {
    "name": "ipython",
    "version": 3
   },
   "file_extension": ".py",
   "mimetype": "text/x-python",
   "name": "python",
   "nbconvert_exporter": "python",
   "pygments_lexer": "ipython3",
   "version": "3.8.10"
  }
 },
 "nbformat": 4,
 "nbformat_minor": 5
}
