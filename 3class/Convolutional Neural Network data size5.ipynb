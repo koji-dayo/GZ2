{
 "cells": [
  {
   "cell_type": "code",
   "execution_count": 1,
   "id": "68cf64b4",
   "metadata": {},
   "outputs": [],
   "source": [
    "import csv\n",
    "import pandas as pd\n",
    "import numpy as np\n",
    "import cv2\n",
    "from sklearn.model_selection import train_test_split\n",
    "df = pd.read_csv(\"../../data/data3size5.csv\")\n",
    "y = df['class']"
   ]
  },
  {
   "cell_type": "code",
   "execution_count": 2,
   "id": "c20539e8",
   "metadata": {},
   "outputs": [],
   "source": [
    "img_list = []\n",
    "size = 64\n",
    "for i in range(len(df)):\n",
    "    img_list.append(cv2.resize(cv2.imread(\"../../\"+df.PATH[i]),(size,size)))\n",
    "    \n",
    "X_train, X_test, y_train, y_test = train_test_split(img_list, y, test_size=0.2,random_state=1)\n",
    "X_test,X_val,y_test,y_val = train_test_split(X_test, y_test, test_size=0.5,random_state=1)"
   ]
  },
  {
   "cell_type": "code",
   "execution_count": 3,
   "id": "3c8a2c77",
   "metadata": {},
   "outputs": [],
   "source": [
    "from tensorflow.keras.utils import to_categorical\n",
    "X_train,X_val,X_test = np.array(X_train)/255.,np.array(X_val)/255.,np.array(X_test)/255.\n",
    "y_train,y_val,y_test =  to_categorical((np.array(y_train)),3),to_categorical((np.array(y_val)),3),to_categorical((np.array(y_test)),3)"
   ]
  },
  {
   "cell_type": "code",
   "execution_count": 4,
   "id": "0f560532",
   "metadata": {},
   "outputs": [
    {
     "name": "stdout",
     "output_type": "stream",
     "text": [
      "Model: \"sequential\"\n",
      "_________________________________________________________________\n",
      "Layer (type)                 Output Shape              Param #   \n",
      "=================================================================\n",
      "conv2d (Conv2D)              (None, 62, 62, 16)        448       \n",
      "_________________________________________________________________\n",
      "max_pooling2d (MaxPooling2D) (None, 31, 31, 16)        0         \n",
      "_________________________________________________________________\n",
      "conv2d_1 (Conv2D)            (None, 29, 29, 32)        4640      \n",
      "_________________________________________________________________\n",
      "max_pooling2d_1 (MaxPooling2 (None, 14, 14, 32)        0         \n",
      "_________________________________________________________________\n",
      "conv2d_2 (Conv2D)            (None, 12, 12, 64)        18496     \n",
      "_________________________________________________________________\n",
      "max_pooling2d_2 (MaxPooling2 (None, 6, 6, 64)          0         \n",
      "_________________________________________________________________\n",
      "conv2d_3 (Conv2D)            (None, 4, 4, 64)          36928     \n",
      "_________________________________________________________________\n",
      "max_pooling2d_3 (MaxPooling2 (None, 2, 2, 64)          0         \n",
      "_________________________________________________________________\n",
      "flatten (Flatten)            (None, 256)               0         \n",
      "_________________________________________________________________\n",
      "dense (Dense)                (None, 128)               32896     \n",
      "_________________________________________________________________\n",
      "dense_1 (Dense)              (None, 3)                 387       \n",
      "=================================================================\n",
      "Total params: 93,795\n",
      "Trainable params: 93,795\n",
      "Non-trainable params: 0\n",
      "_________________________________________________________________\n"
     ]
    }
   ],
   "source": [
    "#モデルの設定\n",
    "from tensorflow.keras import layers,models,initializers\n",
    "from tensorflow.keras.preprocessing.image import ImageDataGenerator\n",
    "import tensorflow as tf\n",
    "from tensorflow.keras.models import Sequential\n",
    "from tensorflow.keras.layers import Convolution2D, MaxPooling2D\n",
    "from tensorflow.keras.layers import Activation, Dropout, Flatten, Dense\n",
    "import sys\n",
    "\n",
    "model = models.Sequential()\n",
    "model.add(layers.Conv2D(16, (3, 3), activation='relu', input_shape=(size, size, 3)))\n",
    "model.add(layers.MaxPooling2D((2, 2)))\n",
    "\n",
    "model.add(layers.Conv2D(32, (3, 3), activation='relu'))\n",
    "model.add(MaxPooling2D(pool_size=(2, 2)))\n",
    "\n",
    "model.add(layers.Conv2D(64, (3, 3), activation='relu'))\n",
    "model.add(MaxPooling2D(pool_size=(2, 2)))\n",
    "\n",
    "model.add(layers.Conv2D(64, (3, 3), activation='relu'))\n",
    "model.add(MaxPooling2D(pool_size=(2, 2)))\n",
    "\n",
    "model.add(layers.Flatten())\n",
    "model.add(layers.Dense(128, activation='relu'))\n",
    "model.add(layers.Dense(3, activation='softmax'))\n",
    "model.summary()"
   ]
  },
  {
   "cell_type": "code",
   "execution_count": 5,
   "id": "a7fd5ad2",
   "metadata": {},
   "outputs": [
    {
     "name": "stdout",
     "output_type": "stream",
     "text": [
      "Epoch 1/20\n",
      "591/591 [==============================] - 34s 57ms/step - loss: 0.7957 - accuracy: 0.6703 - val_loss: 0.6724 - val_accuracy: 0.7367\n",
      "Epoch 2/20\n",
      "591/591 [==============================] - 32s 54ms/step - loss: 0.6724 - accuracy: 0.7287 - val_loss: 0.6018 - val_accuracy: 0.7553\n",
      "Epoch 3/20\n",
      "591/591 [==============================] - 32s 54ms/step - loss: 0.5966 - accuracy: 0.7535 - val_loss: 0.5462 - val_accuracy: 0.7741\n",
      "Epoch 4/20\n",
      "591/591 [==============================] - 32s 54ms/step - loss: 0.5475 - accuracy: 0.7714 - val_loss: 0.5454 - val_accuracy: 0.7771\n",
      "Epoch 5/20\n",
      "591/591 [==============================] - 31s 53ms/step - loss: 0.5233 - accuracy: 0.7823 - val_loss: 0.5073 - val_accuracy: 0.7910\n",
      "Epoch 6/20\n",
      "591/591 [==============================] - 31s 53ms/step - loss: 0.4995 - accuracy: 0.7914 - val_loss: 0.4937 - val_accuracy: 0.7961\n",
      "Epoch 7/20\n",
      "591/591 [==============================] - 32s 53ms/step - loss: 0.4951 - accuracy: 0.7933 - val_loss: 0.4792 - val_accuracy: 0.8047\n",
      "Epoch 8/20\n",
      "591/591 [==============================] - 32s 54ms/step - loss: 0.4836 - accuracy: 0.7978 - val_loss: 0.4878 - val_accuracy: 0.7969\n",
      "Epoch 9/20\n",
      "591/591 [==============================] - 32s 53ms/step - loss: 0.4710 - accuracy: 0.8039 - val_loss: 0.4805 - val_accuracy: 0.7973\n",
      "Epoch 10/20\n",
      "591/591 [==============================] - 31s 53ms/step - loss: 0.4610 - accuracy: 0.8070 - val_loss: 0.5153 - val_accuracy: 0.7827\n",
      "Epoch 11/20\n",
      "591/591 [==============================] - 31s 53ms/step - loss: 0.4522 - accuracy: 0.8112 - val_loss: 0.4855 - val_accuracy: 0.7983\n",
      "Epoch 12/20\n",
      "591/591 [==============================] - 32s 53ms/step - loss: 0.4521 - accuracy: 0.8107 - val_loss: 0.4813 - val_accuracy: 0.7990\n",
      "Epoch 13/20\n",
      "591/591 [==============================] - 32s 53ms/step - loss: 0.4393 - accuracy: 0.8143 - val_loss: 0.4780 - val_accuracy: 0.8051\n",
      "Epoch 14/20\n",
      "591/591 [==============================] - 31s 53ms/step - loss: 0.4280 - accuracy: 0.8209 - val_loss: 0.4786 - val_accuracy: 0.8040\n",
      "Epoch 15/20\n",
      "591/591 [==============================] - 31s 53ms/step - loss: 0.4250 - accuracy: 0.8220 - val_loss: 0.4874 - val_accuracy: 0.8011\n",
      "Epoch 16/20\n",
      "591/591 [==============================] - 32s 54ms/step - loss: 0.4162 - accuracy: 0.8243 - val_loss: 0.4780 - val_accuracy: 0.8054\n",
      "Epoch 17/20\n",
      "591/591 [==============================] - 32s 53ms/step - loss: 0.4107 - accuracy: 0.8271 - val_loss: 0.4918 - val_accuracy: 0.7960\n",
      "Epoch 18/20\n",
      "591/591 [==============================] - 32s 54ms/step - loss: 0.4033 - accuracy: 0.8324 - val_loss: 0.4945 - val_accuracy: 0.8020\n",
      "Epoch 19/20\n",
      "591/591 [==============================] - 32s 54ms/step - loss: 0.4012 - accuracy: 0.8323 - val_loss: 0.4856 - val_accuracy: 0.8009\n",
      "Epoch 20/20\n",
      "591/591 [==============================] - 32s 54ms/step - loss: 0.3937 - accuracy: 0.8348 - val_loss: 0.5081 - val_accuracy: 0.7914\n"
     ]
    }
   ],
   "source": [
    "from tensorflow.python.keras.callbacks import TensorBoard\n",
    "\n",
    "model.compile(\n",
    "   optimizer = 'adam',\n",
    "    loss='categorical_crossentropy',\n",
    "    metrics=['accuracy'])\n",
    "\n",
    "#tsb = TensorBoard(log_dir='./logs')\n",
    "history = model.fit(X_train, y_train,\n",
    "          batch_size=128,\n",
    "          epochs=20,\n",
    "          validation_data=(X_val,y_val))"
   ]
  },
  {
   "cell_type": "code",
   "execution_count": 6,
   "id": "ab3e0836",
   "metadata": {},
   "outputs": [
    {
     "data": {
      "image/png": "[encoded data removed]",
      "text/plain": [
       "<Figure size 640x480 with 1 Axes>"
      ]
     },
     "metadata": {},
     "output_type": "display_data"
    }
   ],
   "source": [
    "import matplotlib.pyplot as plt\n",
    "plt.plot(history.epoch, history.history[\"accuracy\"], label=\"accuracy\")\n",
    "plt.plot(history.epoch, history.history[\"loss\"], label=\"loss\")\n",
    "plt.plot(history.epoch, history.history[\"val_accuracy\"], label=\"val_accuracy\")\n",
    "plt.plot(history.epoch, history.history[\"val_loss\"], label=\"val_loss\")\n",
    "plt.xlabel(\"epoch\")\n",
    "plt.legend()\n",
    "plt.show()"
   ]
  },
  {
   "cell_type": "code",
   "execution_count": 7,
   "id": "caab0512",
   "metadata": {},
   "outputs": [
    {
     "name": "stdout",
     "output_type": "stream",
     "text": [
      "<class 'tensorflow.python.keras.callbacks.History'>\n",
      "Test loss: 0.5289443731307983\n",
      "Test accuracy: 0.7848302125930786\n"
     ]
    }
   ],
   "source": [
    "print(type(history))\n",
    "score = model.evaluate(X_test, y_test, verbose=0,batch_size=128)\n",
    "print('Test loss:', score[0])\n",
    "print('Test accuracy:', score[1])"
   ]
  },
  {
   "cell_type": "code",
   "execution_count": 10,
   "id": "7295f821",
   "metadata": {},
   "outputs": [
    {
     "data": {
      "text/html": [
       "<div>\n",
       "<style scoped>\n",
       "    .dataframe tbody tr th:only-of-type {\n",
       "        vertical-align: middle;\n",
       "    }\n",
       "\n",
       "    .dataframe tbody tr th {\n",
       "        vertical-align: top;\n",
       "    }\n",
       "\n",
       "    .dataframe thead th {\n",
       "        text-align: right;\n",
       "    }\n",
       "</style>\n",
       "<table border=\"1\" class=\"dataframe\">\n",
       "  <thead>\n",
       "    <tr style=\"text-align: right;\">\n",
       "      <th></th>\n",
       "      <th>0</th>\n",
       "    </tr>\n",
       "  </thead>\n",
       "  <tbody>\n",
       "    <tr>\n",
       "      <th>0</th>\n",
       "      <td>0.737278</td>\n",
       "    </tr>\n",
       "    <tr>\n",
       "      <th>1</th>\n",
       "      <td>0.653264</td>\n",
       "    </tr>\n",
       "    <tr>\n",
       "      <th>2</th>\n",
       "      <td>0.581752</td>\n",
       "    </tr>\n",
       "    <tr>\n",
       "      <th>3</th>\n",
       "      <td>0.542452</td>\n",
       "    </tr>\n",
       "    <tr>\n",
       "      <th>4</th>\n",
       "      <td>0.516415</td>\n",
       "    </tr>\n",
       "    <tr>\n",
       "      <th>5</th>\n",
       "      <td>0.501918</td>\n",
       "    </tr>\n",
       "    <tr>\n",
       "      <th>6</th>\n",
       "      <td>0.490239</td>\n",
       "    </tr>\n",
       "    <tr>\n",
       "      <th>7</th>\n",
       "      <td>0.482435</td>\n",
       "    </tr>\n",
       "    <tr>\n",
       "      <th>8</th>\n",
       "      <td>0.472780</td>\n",
       "    </tr>\n",
       "    <tr>\n",
       "      <th>9</th>\n",
       "      <td>0.464861</td>\n",
       "    </tr>\n",
       "    <tr>\n",
       "      <th>10</th>\n",
       "      <td>0.458520</td>\n",
       "    </tr>\n",
       "    <tr>\n",
       "      <th>11</th>\n",
       "      <td>0.451176</td>\n",
       "    </tr>\n",
       "    <tr>\n",
       "      <th>12</th>\n",
       "      <td>0.443206</td>\n",
       "    </tr>\n",
       "    <tr>\n",
       "      <th>13</th>\n",
       "      <td>0.434357</td>\n",
       "    </tr>\n",
       "    <tr>\n",
       "      <th>14</th>\n",
       "      <td>0.428607</td>\n",
       "    </tr>\n",
       "    <tr>\n",
       "      <th>15</th>\n",
       "      <td>0.424211</td>\n",
       "    </tr>\n",
       "    <tr>\n",
       "      <th>16</th>\n",
       "      <td>0.416696</td>\n",
       "    </tr>\n",
       "    <tr>\n",
       "      <th>17</th>\n",
       "      <td>0.407182</td>\n",
       "    </tr>\n",
       "    <tr>\n",
       "      <th>18</th>\n",
       "      <td>0.401942</td>\n",
       "    </tr>\n",
       "    <tr>\n",
       "      <th>19</th>\n",
       "      <td>0.395284</td>\n",
       "    </tr>\n",
       "  </tbody>\n",
       "</table>\n",
       "</div>"
      ],
      "text/plain": [
       "           0\n",
       "0   0.737278\n",
       "1   0.653264\n",
       "2   0.581752\n",
       "3   0.542452\n",
       "4   0.516415\n",
       "5   0.501918\n",
       "6   0.490239\n",
       "7   0.482435\n",
       "8   0.472780\n",
       "9   0.464861\n",
       "10  0.458520\n",
       "11  0.451176\n",
       "12  0.443206\n",
       "13  0.434357\n",
       "14  0.428607\n",
       "15  0.424211\n",
       "16  0.416696\n",
       "17  0.407182\n",
       "18  0.401942\n",
       "19  0.395284"
      ]
     },
     "execution_count": 10,
     "metadata": {},
     "output_type": "execute_result"
    }
   ],
   "source": [
    "pd.DataFrame(history.history[\"loss\"])"
   ]
  },
  {
   "cell_type": "code",
   "execution_count": null,
   "id": "f2e12d95",
   "metadata": {},
   "outputs": [],
   "source": []
  }
 ],
 "metadata": {
  "kernelspec": {
   "display_name": "Python 3",
   "language": "python",
   "name": "python3"
  },
  "language_info": {
   "codemirror_mode": {
    "name": "ipython",
    "version": 3
   },
   "file_extension": ".py",
   "mimetype": "text/x-python",
   "name": "python",
   "nbconvert_exporter": "python",
   "pygments_lexer": "ipython3",
   "version": "3.8.10"
  }
 },
 "nbformat": 4,
 "nbformat_minor": 5
}
