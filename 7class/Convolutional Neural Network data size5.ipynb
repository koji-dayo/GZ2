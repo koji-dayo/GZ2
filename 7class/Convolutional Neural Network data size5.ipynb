{
 "cells": [
  {
   "cell_type": "code",
   "execution_count": 1,
   "id": "1deef847",
   "metadata": {},
   "outputs": [
    {
     "name": "stdout",
     "output_type": "stream",
     "text": [
      "36718\n",
      "916\n",
      "19728\n",
      "26605\n",
      "159\n",
      "5910\n",
      "4499\n"
     ]
    }
   ],
   "source": [
    "import csv\n",
    "import pandas as pd\n",
    "import numpy as np\n",
    "import cv2\n",
    "from sklearn.model_selection import train_test_split\n",
    "#df = pd.read_csv(\"../../data/data7size5.csv\")\n",
    "df = pd.read_csv(\"../../DataCSV/dataset7.csv\")\n",
    "print(df[df['class']==0].shape[0])\n",
    "print(df[df['class']==1].shape[0])\n",
    "print(df[df['class']==2].shape[0])\n",
    "print(df[df['class']==3].shape[0])\n",
    "print(df[df['class']==4].shape[0])\n",
    "print(df[df['class']==5].shape[0])\n",
    "print(df[df['class']==6].shape[0])\n",
    "y = df['class']"
   ]
  },
  {
   "cell_type": "code",
   "execution_count": 2,
   "id": "a85a0c31",
   "metadata": {},
   "outputs": [],
   "source": [
    "def under_sampling():\n",
    "    pass"
   ]
  },
  {
   "cell_type": "code",
   "execution_count": null,
   "id": "bc33f81d",
   "metadata": {},
   "outputs": [],
   "source": []
  },
  {
   "cell_type": "code",
   "execution_count": 3,
   "id": "a2ef5aa5",
   "metadata": {},
   "outputs": [],
   "source": [
    "img_list = []\n",
    "size = 64\n",
    "for i in range(len(df)):\n",
    "    img_list.append(cv2.resize(cv2.imread(\"../../\"+df.PATH[i]),(size,size)))\n",
    "    \n",
    "X_train, X_test, y_train, y_test = train_test_split(img_list, y, test_size=0.2,random_state=1)\n",
    "X_test,X_val,y_test,y_val = train_test_split(X_test, y_test, test_size=0.5,random_state=1)"
   ]
  },
  {
   "cell_type": "code",
   "execution_count": 4,
   "id": "2b010308",
   "metadata": {},
   "outputs": [],
   "source": [
    "np.save(\"X_train\",np.array(X_train))\n",
    "np.save(\"X_val\",np.array(X_val))\n",
    "np.save(\"X_test\",np.array(X_test))\n",
    "np.save(\"y_train\",np.array(y_train))\n",
    "np.save(\"y_val\",np.array(y_val))\n",
    "np.save(\"y_test\",np.array(y_test))"
   ]
  },
  {
   "cell_type": "code",
   "execution_count": 7,
   "id": "364e968f",
   "metadata": {},
   "outputs": [],
   "source": [
    "from tensorflow.keras.utils import to_categorical\n",
    "X_train,X_val,X_test = np.array(X_train)/255.,np.array(X_val)/255.,np.array(X_test)/255.\n",
    "y_train,y_val,y_test =  to_categorical((np.array(y_train)),7),to_categorical((np.array(y_val)),7),to_categorical((np.array(y_test)),7)"
   ]
  },
  {
   "cell_type": "code",
   "execution_count": 8,
   "id": "3d48d55d",
   "metadata": {},
   "outputs": [
    {
     "name": "stdout",
     "output_type": "stream",
     "text": [
      "Model: \"sequential\"\n",
      "_________________________________________________________________\n",
      "Layer (type)                 Output Shape              Param #   \n",
      "=================================================================\n",
      "conv2d (Conv2D)              (None, 60, 60, 8)         608       \n",
      "_________________________________________________________________\n",
      "max_pooling2d (MaxPooling2D) (None, 30, 30, 8)         0         \n",
      "_________________________________________________________________\n",
      "conv2d_1 (Conv2D)            (None, 26, 26, 16)        3216      \n",
      "_________________________________________________________________\n",
      "max_pooling2d_1 (MaxPooling2 (None, 13, 13, 16)        0         \n",
      "_________________________________________________________________\n",
      "conv2d_2 (Conv2D)            (None, 11, 11, 32)        4640      \n",
      "_________________________________________________________________\n",
      "max_pooling2d_2 (MaxPooling2 (None, 5, 5, 32)          0         \n",
      "_________________________________________________________________\n",
      "conv2d_3 (Conv2D)            (None, 3, 3, 64)          18496     \n",
      "_________________________________________________________________\n",
      "max_pooling2d_3 (MaxPooling2 (None, 1, 1, 64)          0         \n",
      "_________________________________________________________________\n",
      "flatten (Flatten)            (None, 64)                0         \n",
      "_________________________________________________________________\n",
      "dense (Dense)                (None, 64)                4160      \n",
      "_________________________________________________________________\n",
      "dense_1 (Dense)              (None, 128)               8320      \n",
      "_________________________________________________________________\n",
      "dense_2 (Dense)              (None, 7)                 903       \n",
      "=================================================================\n",
      "Total params: 40,343\n",
      "Trainable params: 40,343\n",
      "Non-trainable params: 0\n",
      "_________________________________________________________________\n"
     ]
    }
   ],
   "source": [
    "from tensorflow.keras import layers,models,initializers\n",
    "from tensorflow.keras.preprocessing.image import ImageDataGenerator\n",
    "import tensorflow as tf\n",
    "from tensorflow.keras.models import Sequential\n",
    "from tensorflow.keras.layers import Convolution2D, MaxPooling2D\n",
    "from tensorflow.keras.layers import Activation, Dropout, Flatten, Dense\n",
    "import sys\n",
    "def model_build():\n",
    "    size = 64\n",
    "    factor=1e-5\n",
    "    model = models.Sequential()\n",
    "    model.add(layers.Conv2D(8, (5, 5), activation='relu', kernel_regularizer=l1(factor),input_shape=(size, size, 3)))\n",
    "    model.add(layers.MaxPooling2D((2, 2)))\n",
    "\n",
    "\n",
    "    model.add(layers.Conv2D(16, (5, 5), activation='relu',kernel_regularizer=l1(factor)))\n",
    "    model.add(MaxPooling2D(pool_size=(2, 2)))\n",
    "\n",
    "    model.add(layers.Conv2D(32, (3, 3), activation='relu',kernel_regularizer=l1(factor)))\n",
    "    model.add(MaxPooling2D(pool_size=(2, 2)))\n",
    "\n",
    "\n",
    "    model.add(layers.Conv2D(64, (3, 3), activation='relu',kernel_regularizer=l1(factor)))\n",
    "    model.add(MaxPooling2D(pool_size=(2, 2)))\n",
    "    \n",
    "    model.add(layers.Flatten())\n",
    "    model.add(layers.Dense(64, activation='relu',kernel_regularizer=l1(factor)))\n",
    "    model.add(layers.Dense(128, activation='relu',kernel_regularizer=l1(factor)))\n",
    "    \n",
    "    model.add(layers.Dense(7, activation='softmax'))\n",
    "    #model.summary()\n",
    "    return model\n",
    "from tensorflow.keras.regularizers import l2\n",
    "from tensorflow.keras.regularizers import l1\n",
    "model = model_build()\n",
    "model.summary()"
   ]
  },
  {
   "cell_type": "code",
   "execution_count": 9,
   "id": "60e00876",
   "metadata": {},
   "outputs": [
    {
     "name": "stdout",
     "output_type": "stream",
     "text": [
      "Epoch 1/20\n",
      "591/591 [==============================] - 28s 46ms/step - loss: 1.3362 - accuracy: 0.4981 - val_loss: 1.1429 - val_accuracy: 0.6188\n",
      "Epoch 2/20\n",
      "591/591 [==============================] - 26s 45ms/step - loss: 1.0699 - accuracy: 0.6438 - val_loss: 1.0437 - val_accuracy: 0.6563\n",
      "Epoch 3/20\n",
      "591/591 [==============================] - 26s 44ms/step - loss: 1.0543 - accuracy: 0.6513 - val_loss: 1.0310 - val_accuracy: 0.6688\n",
      "Epoch 4/20\n",
      "591/591 [==============================] - 26s 44ms/step - loss: 1.0286 - accuracy: 0.6703 - val_loss: 1.0301 - val_accuracy: 0.6765\n",
      "Epoch 5/20\n",
      "591/591 [==============================] - 26s 44ms/step - loss: 1.0272 - accuracy: 0.6766 - val_loss: 1.0442 - val_accuracy: 0.6765\n",
      "Epoch 6/20\n",
      "591/591 [==============================] - 27s 45ms/step - loss: 1.0333 - accuracy: 0.6830 - val_loss: 1.0674 - val_accuracy: 0.6790\n",
      "Epoch 7/20\n",
      "591/591 [==============================] - 26s 44ms/step - loss: 1.0398 - accuracy: 0.6887 - val_loss: 1.1143 - val_accuracy: 0.6748\n",
      "Epoch 8/20\n",
      "591/591 [==============================] - 26s 43ms/step - loss: 1.0518 - accuracy: 0.6911 - val_loss: 1.0793 - val_accuracy: 0.6882\n",
      "Epoch 9/20\n",
      "591/591 [==============================] - 26s 44ms/step - loss: 1.0772 - accuracy: 0.6929 - val_loss: 1.1215 - val_accuracy: 0.6880\n",
      "Epoch 10/20\n",
      "591/591 [==============================] - 27s 45ms/step - loss: 1.1043 - accuracy: 0.6928 - val_loss: 1.1370 - val_accuracy: 0.6928\n",
      "Epoch 11/20\n",
      "591/591 [==============================] - 27s 46ms/step - loss: 1.1259 - accuracy: 0.6960 - val_loss: 1.1678 - val_accuracy: 0.6891\n",
      "Epoch 12/20\n",
      "591/591 [==============================] - 26s 45ms/step - loss: 1.1405 - accuracy: 0.7014 - val_loss: 1.1843 - val_accuracy: 0.6928\n",
      "Epoch 13/20\n",
      "591/591 [==============================] - 26s 44ms/step - loss: 1.1679 - accuracy: 0.6979 - val_loss: 1.2249 - val_accuracy: 0.6907\n",
      "Epoch 14/20\n",
      "591/591 [==============================] - 26s 43ms/step - loss: 1.1927 - accuracy: 0.7028 - val_loss: 1.2424 - val_accuracy: 0.6947\n",
      "Epoch 15/20\n",
      "591/591 [==============================] - 26s 44ms/step - loss: 1.3444 - accuracy: 0.6803 - val_loss: 1.3109 - val_accuracy: 0.6823\n",
      "Epoch 16/20\n",
      "591/591 [==============================] - 27s 45ms/step - loss: 1.2895 - accuracy: 0.6882 - val_loss: 1.3231 - val_accuracy: 0.6892\n",
      "Epoch 17/20\n",
      "591/591 [==============================] - 26s 44ms/step - loss: 1.3076 - accuracy: 0.6958 - val_loss: 1.4223 - val_accuracy: 0.6611\n",
      "Epoch 18/20\n",
      "591/591 [==============================] - 26s 43ms/step - loss: 1.3781 - accuracy: 0.6798 - val_loss: 1.3847 - val_accuracy: 0.6830\n",
      "Epoch 19/20\n",
      "591/591 [==============================] - 27s 46ms/step - loss: 1.3675 - accuracy: 0.6950 - val_loss: 1.4737 - val_accuracy: 0.6710\n",
      "Epoch 20/20\n",
      "591/591 [==============================] - 27s 46ms/step - loss: 1.4424 - accuracy: 0.6786 - val_loss: 1.4511 - val_accuracy: 0.6829\n"
     ]
    }
   ],
   "source": [
    "from tensorflow.python.keras.callbacks import TensorBoard\n",
    "model = model_build()\n",
    "model.compile(\n",
    "   optimizer = 'adam',\n",
    "    loss='categorical_crossentropy',\n",
    "    metrics=['accuracy'])\n",
    "\n",
    "#tsb = TensorBoard(log_dir='./logs')\n",
    "history = model.fit(X_train, y_train,\n",
    "          batch_size=128,\n",
    "          epochs=20,\n",
    "          validation_data=(X_val,y_val))"
   ]
  },
  {
   "cell_type": "code",
   "execution_count": 10,
   "id": "c9d651ac",
   "metadata": {},
   "outputs": [
    {
     "data": {
      "image/png": "[encoded data removed]",
      "text/plain": [
       "<Figure size 640x480 with 1 Axes>"
      ]
     },
     "metadata": {},
     "output_type": "display_data"
    }
   ],
   "source": [
    "import matplotlib.pyplot as plt\n",
    "plt.plot(history.epoch, history.history[\"accuracy\"], label=\"accuracy\")\n",
    "plt.plot(history.epoch, history.history[\"loss\"], label=\"loss\")\n",
    "plt.plot(history.epoch, history.history[\"val_accuracy\"], label=\"val_accuracy\")\n",
    "plt.plot(history.epoch, history.history[\"val_loss\"], label=\"val_loss\")\n",
    "plt.xlabel(\"epoch\")\n",
    "plt.legend()\n",
    "plt.show()"
   ]
  },
  {
   "cell_type": "code",
   "execution_count": 11,
   "id": "a6d69161",
   "metadata": {},
   "outputs": [
    {
     "name": "stdout",
     "output_type": "stream",
     "text": [
      "Test loss: 1.4577797651290894\n",
      "Test accuracy: 0.6809478402137756\n"
     ]
    }
   ],
   "source": [
    "score = model.evaluate(X_test, y_test, verbose=0,batch_size=128)\n",
    "print('Test loss:', score[0])\n",
    "print('Test accuracy:', score[1])"
   ]
  },
  {
   "cell_type": "code",
   "execution_count": null,
   "id": "742d3f32",
   "metadata": {},
   "outputs": [],
   "source": []
  }
 ],
 "metadata": {
  "kernelspec": {
   "display_name": "Python 3",
   "language": "python",
   "name": "python3"
  },
  "language_info": {
   "codemirror_mode": {
    "name": "ipython",
    "version": 3
   },
   "file_extension": ".py",
   "mimetype": "text/x-python",
   "name": "python",
   "nbconvert_exporter": "python",
   "pygments_lexer": "ipython3",
   "version": "3.8.10"
  }
 },
 "nbformat": 4,
 "nbformat_minor": 5
}
