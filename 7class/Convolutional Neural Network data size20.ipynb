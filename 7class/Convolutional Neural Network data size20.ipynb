{
 "cells": [
  {
   "cell_type": "code",
   "execution_count": 1,
   "id": "1deef847",
   "metadata": {},
   "outputs": [],
   "source": [
    "import csv\n",
    "import pandas as pd\n",
    "import numpy as np\n",
    "import cv2\n",
    "from sklearn.model_selection import train_test_split\n",
    "df = pd.read_csv(\"../../data/data7size20.csv\")\n",
    "y = df['class']"
   ]
  },
  {
   "cell_type": "code",
   "execution_count": 2,
   "id": "a2ef5aa5",
   "metadata": {},
   "outputs": [],
   "source": [
    "img_list = []\n",
    "size = 64\n",
    "for i in range(len(df)):\n",
    "    img_list.append(cv2.resize(cv2.imread(\"../../\"+df.PATH[i]),(size,size)))\n",
    "    \n",
    "X_train, X_test, y_train, y_test = train_test_split(img_list, y, test_size=0.2,random_state=1)\n",
    "X_test,X_val,y_test,y_val = train_test_split(X_test, y_test, test_size=0.5,random_state=1)"
   ]
  },
  {
   "cell_type": "code",
   "execution_count": 5,
   "id": "42a7bc14",
   "metadata": {},
   "outputs": [],
   "source": [
    "np.save(\"X_train\",np.array(X_train))\n",
    "np.save(\"X_val\",np.array(X_val))\n",
    "np.save(\"X_test\",np.array(X_test))\n",
    "np.save(\"y_train\",np.array(y_train))\n",
    "np.save(\"y_val\",np.array(y_val))\n",
    "np.save(\"y_test\",np.array(y_test))"
   ]
  },
  {
   "cell_type": "code",
   "execution_count": 3,
   "id": "364e968f",
   "metadata": {},
   "outputs": [],
   "source": [
    "from tensorflow.keras.utils import to_categorical\n",
    "X_train,X_val,X_test = np.array(X_train)/255.,np.array(X_val)/255.,np.array(X_test)/255.\n",
    "y_train,y_val,y_test =  to_categorical((np.array(y_train)),7),to_categorical((np.array(y_val)),7),to_categorical((np.array(y_test)),7)"
   ]
  },
  {
   "cell_type": "code",
   "execution_count": 4,
   "id": "3d48d55d",
   "metadata": {},
   "outputs": [
    {
     "name": "stdout",
     "output_type": "stream",
     "text": [
      "Model: \"sequential\"\n",
      "_________________________________________________________________\n",
      "Layer (type)                 Output Shape              Param #   \n",
      "=================================================================\n",
      "conv2d (Conv2D)              (None, 60, 60, 8)         608       \n",
      "_________________________________________________________________\n",
      "max_pooling2d (MaxPooling2D) (None, 30, 30, 8)         0         \n",
      "_________________________________________________________________\n",
      "conv2d_1 (Conv2D)            (None, 26, 26, 16)        3216      \n",
      "_________________________________________________________________\n",
      "max_pooling2d_1 (MaxPooling2 (None, 13, 13, 16)        0         \n",
      "_________________________________________________________________\n",
      "conv2d_2 (Conv2D)            (None, 11, 11, 32)        4640      \n",
      "_________________________________________________________________\n",
      "max_pooling2d_2 (MaxPooling2 (None, 5, 5, 32)          0         \n",
      "_________________________________________________________________\n",
      "conv2d_3 (Conv2D)            (None, 3, 3, 64)          18496     \n",
      "_________________________________________________________________\n",
      "max_pooling2d_3 (MaxPooling2 (None, 1, 1, 64)          0         \n",
      "_________________________________________________________________\n",
      "flatten (Flatten)            (None, 64)                0         \n",
      "_________________________________________________________________\n",
      "dense (Dense)                (None, 64)                4160      \n",
      "_________________________________________________________________\n",
      "dense_1 (Dense)              (None, 128)               8320      \n",
      "_________________________________________________________________\n",
      "dense_2 (Dense)              (None, 7)                 903       \n",
      "=================================================================\n",
      "Total params: 40,343\n",
      "Trainable params: 40,343\n",
      "Non-trainable params: 0\n",
      "_________________________________________________________________\n"
     ]
    }
   ],
   "source": [
    "from tensorflow.keras import layers,models,initializers\n",
    "from tensorflow.keras.preprocessing.image import ImageDataGenerator\n",
    "import tensorflow as tf\n",
    "from tensorflow.keras.models import Sequential\n",
    "from tensorflow.keras.layers import Convolution2D, MaxPooling2D\n",
    "from tensorflow.keras.layers import Activation, Dropout, Flatten, Dense\n",
    "import sys\n",
    "def model_build():\n",
    "    size = 64\n",
    "    factor=1e-5\n",
    "    model = models.Sequential()\n",
    "    model.add(layers.Conv2D(8, (5, 5), activation='relu', kernel_regularizer=l2(factor),input_shape=(size, size, 3)))\n",
    "    model.add(layers.MaxPooling2D((2, 2)))\n",
    "\n",
    "\n",
    "    model.add(layers.Conv2D(16, (5, 5), activation='relu',kernel_regularizer=l2(factor)))\n",
    "    model.add(MaxPooling2D(pool_size=(2, 2)))\n",
    "\n",
    "    model.add(layers.Conv2D(32, (3, 3), activation='relu',kernel_regularizer=l2(factor)))\n",
    "    model.add(MaxPooling2D(pool_size=(2, 2)))\n",
    "\n",
    "\n",
    "    model.add(layers.Conv2D(64, (3, 3), activation='relu',kernel_regularizer=l2(factor)))\n",
    "    model.add(MaxPooling2D(pool_size=(2, 2)))\n",
    "    \n",
    "    model.add(layers.Flatten())\n",
    "    model.add(layers.Dense(64, activation='relu',kernel_regularizer=l2(factor)))\n",
    "    model.add(layers.Dense(128, activation='relu',kernel_regularizer=l2(factor)))\n",
    "    \n",
    "    model.add(layers.Dense(7, activation='softmax'))\n",
    "    #model.summary()\n",
    "    return model\n",
    "from tensorflow.keras.regularizers import l2\n",
    "from tensorflow.keras.regularizers import l1\n",
    "model = model_build()\n",
    "model.summary()"
   ]
  },
  {
   "cell_type": "code",
   "execution_count": 5,
   "id": "60e00876",
   "metadata": {},
   "outputs": [
    {
     "name": "stdout",
     "output_type": "stream",
     "text": [
      "Epoch 1/20\n",
      "284/284 [==============================] - 13s 44ms/step - loss: 1.3974 - accuracy: 0.4829 - val_loss: 1.0475 - val_accuracy: 0.6354\n",
      "Epoch 2/20\n",
      "284/284 [==============================] - 12s 42ms/step - loss: 1.0610 - accuracy: 0.6225 - val_loss: 0.9964 - val_accuracy: 0.6510\n",
      "Epoch 3/20\n",
      "284/284 [==============================] - 12s 42ms/step - loss: 0.9903 - accuracy: 0.6480 - val_loss: 0.9619 - val_accuracy: 0.6653\n",
      "Epoch 4/20\n",
      "284/284 [==============================] - 12s 43ms/step - loss: 0.9624 - accuracy: 0.6540 - val_loss: 0.9280 - val_accuracy: 0.6684\n",
      "Epoch 5/20\n",
      "284/284 [==============================] - 12s 42ms/step - loss: 0.9338 - accuracy: 0.6616 - val_loss: 0.8974 - val_accuracy: 0.6808\n",
      "Epoch 6/20\n",
      "284/284 [==============================] - 12s 42ms/step - loss: 0.9083 - accuracy: 0.6697 - val_loss: 0.8976 - val_accuracy: 0.6761\n",
      "Epoch 7/20\n",
      "284/284 [==============================] - 12s 43ms/step - loss: 0.8850 - accuracy: 0.6780 - val_loss: 0.8558 - val_accuracy: 0.6896\n",
      "Epoch 8/20\n",
      "284/284 [==============================] - 12s 43ms/step - loss: 0.8429 - accuracy: 0.6925 - val_loss: 0.8423 - val_accuracy: 0.6903\n",
      "Epoch 9/20\n",
      "284/284 [==============================] - 12s 44ms/step - loss: 0.8232 - accuracy: 0.6998 - val_loss: 0.8449 - val_accuracy: 0.6955\n",
      "Epoch 10/20\n",
      "284/284 [==============================] - 12s 43ms/step - loss: 0.8089 - accuracy: 0.7009 - val_loss: 0.8738 - val_accuracy: 0.6845\n",
      "Epoch 11/20\n",
      "284/284 [==============================] - 13s 46ms/step - loss: 0.8020 - accuracy: 0.7019 - val_loss: 0.8248 - val_accuracy: 0.6944\n",
      "Epoch 12/20\n",
      "284/284 [==============================] - 12s 44ms/step - loss: 0.7730 - accuracy: 0.7112 - val_loss: 0.7814 - val_accuracy: 0.7114\n",
      "Epoch 13/20\n",
      "284/284 [==============================] - 12s 43ms/step - loss: 0.7679 - accuracy: 0.7159 - val_loss: 0.7872 - val_accuracy: 0.7145\n",
      "Epoch 14/20\n",
      "284/284 [==============================] - 12s 43ms/step - loss: 0.7531 - accuracy: 0.7193 - val_loss: 0.7756 - val_accuracy: 0.7123\n",
      "Epoch 15/20\n",
      "284/284 [==============================] - 12s 42ms/step - loss: 0.7362 - accuracy: 0.7272 - val_loss: 0.7589 - val_accuracy: 0.7183\n",
      "Epoch 16/20\n",
      "284/284 [==============================] - 11s 39ms/step - loss: 0.7485 - accuracy: 0.7237 - val_loss: 0.7612 - val_accuracy: 0.7145\n",
      "Epoch 17/20\n",
      "284/284 [==============================] - 12s 43ms/step - loss: 0.7286 - accuracy: 0.7296 - val_loss: 0.7738 - val_accuracy: 0.7198\n",
      "Epoch 18/20\n",
      "284/284 [==============================] - 12s 42ms/step - loss: 0.7244 - accuracy: 0.7328 - val_loss: 0.7543 - val_accuracy: 0.7200\n",
      "Epoch 19/20\n",
      "284/284 [==============================] - 12s 42ms/step - loss: 0.7151 - accuracy: 0.7320 - val_loss: 0.7664 - val_accuracy: 0.7220\n",
      "Epoch 20/20\n",
      "284/284 [==============================] - 12s 42ms/step - loss: 0.7145 - accuracy: 0.7349 - val_loss: 0.7712 - val_accuracy: 0.7149\n"
     ]
    }
   ],
   "source": [
    "from tensorflow.python.keras.callbacks import TensorBoard\n",
    "from tensorflow.keras.regularizers import l2\n",
    "import datetime\n",
    "#model = model_build(1e-5, 0.3)\n",
    "model.compile(\n",
    "   optimizer = 'adam',\n",
    "    loss='categorical_crossentropy',\n",
    "    metrics=['accuracy'])\n",
    "log_dir = \"logs/fit/\" + datetime.datetime.now().strftime(\"%Y%m%d-%H%M%S\")\n",
    "tensorboard_callback = tf.keras.callbacks.TensorBoard(log_dir=log_dir, histogram_freq=1)\n",
    "\n",
    "#tsb = TensorBoard(log_dir='./logs')\n",
    "history = model.fit(X_train, y_train,\n",
    "          batch_size=128,\n",
    "          epochs=20,\n",
    "          validation_data=(X_val,y_val), callbacks=[tensorboard_callback])"
   ]
  },
  {
   "cell_type": "code",
   "execution_count": 6,
   "id": "4d7a5136",
   "metadata": {},
   "outputs": [
    {
     "data": {
      "text/html": [
       "\n",
       "      <iframe id=\"tensorboard-frame-54ec863da0241543\" width=\"100%\" height=\"800\" frameborder=\"0\">\n",
       "      </iframe>\n",
       "      <script>\n",
       "        (function() {\n",
       "          const frame = document.getElementById(\"tensorboard-frame-54ec863da0241543\");\n",
       "          const url = new URL(\"/\", window.location);\n",
       "          const port = 6006;\n",
       "          if (port) {\n",
       "            url.port = port;\n",
       "          }\n",
       "          frame.src = url;\n",
       "        })();\n",
       "      </script>\n",
       "    "
      ],
      "text/plain": [
       "<IPython.core.display.HTML object>"
      ]
     },
     "metadata": {},
     "output_type": "display_data"
    }
   ],
   "source": [
    "%load_ext tensorboard\n",
    "%tensorboard --logdir logs/fit"
   ]
  },
  {
   "cell_type": "code",
   "execution_count": 6,
   "id": "c9d651ac",
   "metadata": {},
   "outputs": [
    {
     "data": {
      "image/png": "[encoded data removed]",
      "text/plain": [
       "<Figure size 640x480 with 1 Axes>"
      ]
     },
     "metadata": {},
     "output_type": "display_data"
    }
   ],
   "source": [
    "import matplotlib.pyplot as plt\n",
    "plt.plot(history.epoch, history.history[\"accuracy\"], label=\"accuracy\")\n",
    "plt.plot(history.epoch, history.history[\"loss\"], label=\"loss\")\n",
    "plt.plot(history.epoch, history.history[\"val_accuracy\"], label=\"val_accuracy\")\n",
    "plt.plot(history.epoch, history.history[\"val_loss\"], label=\"val_loss\")\n",
    "plt.xlabel(\"epoch\")\n",
    "plt.legend()\n",
    "plt.show()"
   ]
  },
  {
   "cell_type": "code",
   "execution_count": 7,
   "id": "a6d69161",
   "metadata": {},
   "outputs": [
    {
     "name": "stdout",
     "output_type": "stream",
     "text": [
      "Test loss: 0.7787752151489258\n",
      "Test accuracy: 0.7142227292060852\n"
     ]
    }
   ],
   "source": [
    "score = model.evaluate(X_test, y_test, verbose=0,batch_size=128)\n",
    "print('Test loss:', score[0])\n",
    "print('Test accuracy:', score[1])"
   ]
  },
  {
   "cell_type": "code",
   "execution_count": null,
   "id": "5a51c803",
   "metadata": {},
   "outputs": [],
   "source": []
  }
 ],
 "metadata": {
  "kernelspec": {
   "display_name": "Python 3",
   "language": "python",
   "name": "python3"
  },
  "language_info": {
   "codemirror_mode": {
    "name": "ipython",
    "version": 3
   },
   "file_extension": ".py",
   "mimetype": "text/x-python",
   "name": "python",
   "nbconvert_exporter": "python",
   "pygments_lexer": "ipython3",
   "version": "3.8.10"
  }
 },
 "nbformat": 4,
 "nbformat_minor": 5
}
