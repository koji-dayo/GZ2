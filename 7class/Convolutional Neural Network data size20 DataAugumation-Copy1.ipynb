{
 "cells": [
  {
   "cell_type": "code",
   "execution_count": 1,
   "id": "1deef847",
   "metadata": {},
   "outputs": [],
   "source": [
    "import csv\n",
    "import pandas as pd\n",
    "import numpy as np\n",
    "import cv2\n",
    "from sklearn.model_selection import train_test_split\n",
    "from tensorflow.keras.preprocessing import image\n",
    "df = pd.read_csv(\"../../data/data7size20.csv\")\n",
    "y = df['class']"
   ]
  },
  {
   "cell_type": "code",
   "execution_count": 2,
   "id": "a2ef5aa5",
   "metadata": {},
   "outputs": [],
   "source": [
    "img_list = []\n",
    "size = 64\n",
    "for i in range(len(df)):\n",
    "    #img_list.append(cv2.resize(cv2.imread(\"../../\"+df.PATH[i]),(size,size)))\n",
    "    img_data = cv2.imread(\"../../\"+df.PATH[i])\n",
    "    img_data = cv2.cvtColor(img_data, cv2.COLOR_BGR2GRAY)  \n",
    "    img_data = cv2.resize(img_data,(size,size))\n",
    "    img_list.append(img_data)\n",
    "    \n",
    "X_train, X_test, y_train, y_test = train_test_split(img_list, y, test_size=0.2,random_state=1)\n",
    "X_test,X_val,y_test,y_val = train_test_split(X_test, y_test, test_size=0.5,random_state=1)"
   ]
  },
  {
   "cell_type": "code",
   "execution_count": 5,
   "id": "42a7bc14",
   "metadata": {},
   "outputs": [
    {
     "data": {
      "text/plain": [
       "(36284, 64, 64)"
      ]
     },
     "execution_count": 5,
     "metadata": {},
     "output_type": "execute_result"
    }
   ],
   "source": [
    "'''\n",
    "np.save(\"X_train\",np.array(X_train))\n",
    "np.save(\"X_val\",np.array(X_val))\n",
    "np.save(\"X_test\",np.array(X_test))\n",
    "np.save(\"y_train\",np.array(y_train))\n",
    "np.save(\"y_val\",np.array(y_val))\n",
    "np.save(\"y_test\",np.array(y_test))\n",
    "'''\n",
    "X_train.shape"
   ]
  },
  {
   "cell_type": "code",
   "execution_count": 4,
   "id": "364e968f",
   "metadata": {},
   "outputs": [],
   "source": [
    "from tensorflow.keras.utils import to_categorical\n",
    "X_train,X_val,X_test = np.array(X_train)/255.,np.array(X_val)/255.,np.array(X_test)/255.\n",
    "#y_train,y_val,y_test =  to_categorical((np.array(y_train)),7),to_categorical((np.array(y_val)),7),to_categorical((np.array(y_test)),7)\n",
    "\n",
    "y_train = np.array(y_train)\n",
    "y_test = np.array(y_test)\n",
    "y_val = np.array(y_val)"
   ]
  },
  {
   "cell_type": "code",
   "execution_count": 6,
   "id": "09bbd039",
   "metadata": {},
   "outputs": [],
   "source": [
    "import tensorflow as tf\n",
    "def make_example(image, label):\n",
    "    return tf.train.Example(features=tf.train.Features(feature={\n",
    "        'x' : tf.train.Feature(float_list=tf.train.FloatList(value=image)),\n",
    "        'y' : tf.train.Feature(int64_list=tf.train.Int64List(value=label))\n",
    "    }))\n",
    "\n",
    "def write_tfrecord(images, labels, filename):\n",
    "    writer = tf.io.TFRecordWriter(filename)\n",
    "    for image, label in zip(images, labels):\n",
    "        ex = make_example(image.ravel().tolist(), [int(label)])\n",
    "        writer.write(ex.SerializeToString())\n",
    "    writer.close()\n",
    "\n",
    "write_tfrecord(X_train, y_train, 'mnist_train.tfrecord')\n",
    "write_tfrecord(X_test, y_test, 'mnist_test.tfrecord')\n",
    "write_tfrecord(X_val, y_val, 'mnist_val.tfrecord')"
   ]
  },
  {
   "cell_type": "code",
   "execution_count": 7,
   "id": "997117ee",
   "metadata": {},
   "outputs": [],
   "source": [
    "from tensorflow.keras import layers,models,initializers\n",
    "from tensorflow.keras.preprocessing.image import ImageDataGenerator\n",
    "import tensorflow as tf\n",
    "from tensorflow.keras.models import Sequential\n",
    "from tensorflow.keras.layers import Convolution2D, MaxPooling2D\n",
    "from tensorflow.keras.layers import Activation, Dropout, Flatten, Dense\n",
    "import sys\n",
    "def make_model():\n",
    "    size = 64\n",
    "    factor=1e-5\n",
    "    model = models.Sequential()\n",
    "    model.add(layers.Conv2D(8, (5, 5), activation='relu', kernel_regularizer=l2(factor),input_shape=(size, size, 1)))\n",
    "    model.add(layers.MaxPooling2D((2, 2)))\n",
    "\n",
    "\n",
    "    model.add(layers.Conv2D(16, (5, 5), activation='relu',kernel_regularizer=l2(factor)))\n",
    "    model.add(MaxPooling2D(pool_size=(2, 2)))\n",
    "\n",
    "    model.add(layers.Conv2D(32, (3, 3), activation='relu',kernel_regularizer=l2(factor)))\n",
    "    model.add(MaxPooling2D(pool_size=(2, 2)))\n",
    "\n",
    "\n",
    "    model.add(layers.Conv2D(64, (3, 3), activation='relu',kernel_regularizer=l2(factor)))\n",
    "    model.add(MaxPooling2D(pool_size=(2, 2)))\n",
    "    \n",
    "    model.add(layers.Flatten())\n",
    "    model.add(layers.Dense(64, activation='relu',kernel_regularizer=l2(factor)))\n",
    "    model.add(layers.Dense(128, activation='relu',kernel_regularizer=l2(factor)))\n",
    "    \n",
    "    model.add(layers.Dense(7, activation='softmax'))\n",
    "    #model.summary()\n",
    "    return model\n",
    "from tensorflow.keras.regularizers import l2\n",
    "from tensorflow.keras.regularizers import l1"
   ]
  },
  {
   "cell_type": "code",
   "execution_count": 9,
   "id": "3d48d55d",
   "metadata": {},
   "outputs": [
    {
     "name": "stdout",
     "output_type": "stream",
     "text": [
      "WARNING:tensorflow:AutoGraph could not transform <function parse_features at 0x29df67dc0> and will run it as-is.\n",
      "Please report this to the TensorFlow team. When filing the bug, set the verbosity to 10 (on Linux, `export AUTOGRAPH_VERBOSITY=10`) and attach the full output.\n",
      "Cause: module 'gast' has no attribute 'Index'\n",
      "To silence this warning, decorate the function with @tf.autograph.experimental.do_not_convert\n",
      "WARNING: AutoGraph could not transform <function parse_features at 0x29df67dc0> and will run it as-is.\n",
      "Please report this to the TensorFlow team. When filing the bug, set the verbosity to 10 (on Linux, `export AUTOGRAPH_VERBOSITY=10`) and attach the full output.\n",
      "Cause: module 'gast' has no attribute 'Index'\n",
      "To silence this warning, decorate the function with @tf.autograph.experimental.do_not_convert\n"
     ]
    },
    {
     "data": {
      "image/png": "[encoded data removed]",
      "text/plain": [
       "<Figure size 400x400 with 1 Axes>"
      ]
     },
     "metadata": {},
     "output_type": "display_data"
    }
   ],
   "source": [
    "def parse_features(example):\n",
    "    features = tf.io.parse_single_example(example, features={\n",
    "        'x' : tf.io.FixedLenFeature([64, 64,1], tf.float32),\n",
    "        'y' : tf.io.FixedLenFeature([1], tf.int64),\n",
    "    })\n",
    "    x = features['x']\n",
    "    y = features['y']\n",
    "    return x, y\n",
    "import matplotlib.pyplot as plt\n",
    "train_dataset = tf.data.TFRecordDataset(filenames='mnist_train.tfrecord')\n",
    "train_dataset = train_dataset.map(parse_features).shuffle(60000).batch(512)\n",
    "\n",
    "val_dataset = tf.data.TFRecordDataset(filenames='mnist_val.tfrecord')\n",
    "val_dataset = val_dataset.map(parse_features).shuffle(12000).batch(512)\n",
    "\n",
    "test_dataset = tf.data.TFRecordDataset(filenames='mnist_test.tfrecord')\n",
    "test_dataset = test_dataset.map(parse_features).shuffle(12000).batch(512)\n",
    "\n",
    "model = make_model()\n",
    "model.compile(optimizer='adam', loss='sparse_categorical_crossentropy', \n",
    "              metrics=['accuracy'])\n",
    "hist = model.fit(train_dataset, validation_data=val_dataset,\n",
    "                 epochs=20, verbose=False)\n",
    "\n",
    "plt.figure(figsize=(4, 4))\n",
    "plt.plot(hist.history['loss'], label='loss')\n",
    "plt.plot(hist.history['val_loss'], label='val_loss')\n",
    "plt.show()"
   ]
  },
  {
   "cell_type": "code",
   "execution_count": 10,
   "id": "a6d69161",
   "metadata": {},
   "outputs": [
    {
     "name": "stdout",
     "output_type": "stream",
     "text": [
      "Test loss: 0.8691842555999756\n",
      "Test accuracy: 0.6826902031898499\n"
     ]
    }
   ],
   "source": [
    "score = model.evaluate(test_dataset, verbose=0,batch_size=128)\n",
    "print('Test loss:', score[0])\n",
    "print('Test accuracy:', score[1])"
   ]
  },
  {
   "cell_type": "code",
   "execution_count": 14,
   "id": "7f46bb9b",
   "metadata": {},
   "outputs": [
    {
     "data": {
      "image/png": "[encoded data removed]",
      "text/plain": [
       "<Figure size 640x480 with 1 Axes>"
      ]
     },
     "metadata": {},
     "output_type": "display_data"
    }
   ],
   "source": [
    "plt.imshow(img_data)\n",
    "plt.show()"
   ]
  },
  {
   "cell_type": "code",
   "execution_count": null,
   "id": "5a51c803",
   "metadata": {},
   "outputs": [],
   "source": [
    "%load_ext tensorboard\n",
    "%tensorboard --logdir logs/fit"
   ]
  }
 ],
 "metadata": {
  "kernelspec": {
   "display_name": "Python 3",
   "language": "python",
   "name": "python3"
  },
  "language_info": {
   "codemirror_mode": {
    "name": "ipython",
    "version": 3
   },
   "file_extension": ".py",
   "mimetype": "text/x-python",
   "name": "python",
   "nbconvert_exporter": "python",
   "pygments_lexer": "ipython3",
   "version": "3.8.10"
  }
 },
 "nbformat": 4,
 "nbformat_minor": 5
}
