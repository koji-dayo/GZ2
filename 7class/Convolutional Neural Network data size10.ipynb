{
 "cells": [
  {
   "cell_type": "code",
   "execution_count": 1,
   "id": "9b6ec90f",
   "metadata": {},
   "outputs": [],
   "source": [
    "import csv\n",
    "import pandas as pd\n",
    "import numpy as np\n",
    "import cv2\n",
    "from sklearn.model_selection import train_test_split\n",
    "df = pd.read_csv(\"../../data/data7size10.csv\")\n",
    "y = df['class']"
   ]
  },
  {
   "cell_type": "code",
   "execution_count": 2,
   "id": "7919ebe0",
   "metadata": {},
   "outputs": [],
   "source": [
    "img_list = []\n",
    "size = 64\n",
    "for i in range(len(df)):\n",
    "    img_list.append(cv2.resize(cv2.imread(\"../../\"+df.PATH[i]),(size,size)))\n",
    "    \n",
    "X_train, X_test, y_train, y_test = train_test_split(img_list, y, test_size=0.2,random_state=1)\n",
    "X_test,X_val,y_test,y_val = train_test_split(X_test, y_test, test_size=0.5,random_state=1)"
   ]
  },
  {
   "cell_type": "code",
   "execution_count": 3,
   "id": "5b67313a",
   "metadata": {},
   "outputs": [],
   "source": [
    "np.save(\"X_train\",np.array(X_train))\n",
    "np.save(\"X_val\",np.array(X_val))\n",
    "np.save(\"X_test\",np.array(X_test))\n",
    "np.save(\"y_train\",np.array(y_train))\n",
    "np.save(\"y_val\",np.array(y_val))\n",
    "np.save(\"y_test\",np.array(y_test))"
   ]
  },
  {
   "cell_type": "code",
   "execution_count": 3,
   "id": "9e1d3e4f",
   "metadata": {},
   "outputs": [],
   "source": [
    "from tensorflow.keras.utils import to_categorical\n",
    "X_train,X_val,X_test = np.array(X_train)/255.,np.array(X_val)/255.,np.array(X_test)/255.\n",
    "y_train,y_val,y_test =  to_categorical((np.array(y_train)),7),to_categorical((np.array(y_val)),7),to_categorical((np.array(y_test)),7)"
   ]
  },
  {
   "cell_type": "code",
   "execution_count": 5,
   "id": "8d106c6a",
   "metadata": {},
   "outputs": [
    {
     "name": "stdout",
     "output_type": "stream",
     "text": [
      "Model: \"sequential_1\"\n",
      "_________________________________________________________________\n",
      "Layer (type)                 Output Shape              Param #   \n",
      "=================================================================\n",
      "conv2d (Conv2D)              (None, 60, 60, 16)        1216      \n",
      "_________________________________________________________________\n",
      "max_pooling2d (MaxPooling2D) (None, 30, 30, 16)        0         \n",
      "_________________________________________________________________\n",
      "conv2d_1 (Conv2D)            (None, 26, 26, 32)        12832     \n",
      "_________________________________________________________________\n",
      "max_pooling2d_1 (MaxPooling2 (None, 13, 13, 32)        0         \n",
      "_________________________________________________________________\n",
      "conv2d_2 (Conv2D)            (None, 11, 11, 32)        9248      \n",
      "_________________________________________________________________\n",
      "max_pooling2d_2 (MaxPooling2 (None, 5, 5, 32)          0         \n",
      "_________________________________________________________________\n",
      "conv2d_3 (Conv2D)            (None, 3, 3, 64)          18496     \n",
      "_________________________________________________________________\n",
      "max_pooling2d_3 (MaxPooling2 (None, 1, 1, 64)          0         \n",
      "_________________________________________________________________\n",
      "flatten (Flatten)            (None, 64)                0         \n",
      "_________________________________________________________________\n",
      "dense (Dense)                (None, 128)               8320      \n",
      "_________________________________________________________________\n",
      "dense_1 (Dense)              (None, 7)                 903       \n",
      "=================================================================\n",
      "Total params: 51,015\n",
      "Trainable params: 51,015\n",
      "Non-trainable params: 0\n",
      "_________________________________________________________________\n"
     ]
    }
   ],
   "source": [
    "from tensorflow.keras import layers,models,initializers\n",
    "from tensorflow.keras.preprocessing.image import ImageDataGenerator\n",
    "import tensorflow as tf\n",
    "from tensorflow.keras.models import Sequential\n",
    "from tensorflow.keras.layers import Convolution2D, MaxPooling2D\n",
    "from tensorflow.keras.layers import Activation, Dropout, Flatten, Dense\n",
    "import sys\n",
    "def model_build():\n",
    "    size = 64\n",
    "    factor=1e-5\n",
    "    model = models.Sequential()\n",
    "    model.add(layers.Conv2D(16, (5, 5), activation='relu', kernel_regularizer=l1(factor),input_shape=(size, size, 3)))\n",
    "    model.add(layers.MaxPooling2D((2, 2)))\n",
    "\n",
    "\n",
    "    model.add(layers.Conv2D(32, (5, 5), activation='relu',kernel_regularizer=l1(factor)))\n",
    "    model.add(MaxPooling2D(pool_size=(2, 2)))\n",
    "\n",
    "    model.add(layers.Conv2D(32, (3, 3), activation='relu',kernel_regularizer=l1(factor)))\n",
    "    model.add(MaxPooling2D(pool_size=(2, 2)))\n",
    "\n",
    "\n",
    "    model.add(layers.Conv2D(64, (3, 3), activation='relu',kernel_regularizer=l1(factor)))\n",
    "    model.add(MaxPooling2D(pool_size=(2, 2)))\n",
    "    \n",
    "    model.add(layers.Flatten())\n",
    "    model.add(layers.Dense(128, activation='relu',kernel_regularizer=l1(factor)))\n",
    "    \n",
    "    model.add(layers.Dense(7, activation='softmax'))\n",
    "    #model.summary()\n",
    "    return model\n",
    "from tensorflow.keras.regularizers import l2\n",
    "from tensorflow.keras.regularizers import l1\n",
    "model = model_build()\n",
    "model.summary()"
   ]
  },
  {
   "cell_type": "code",
   "execution_count": 6,
   "id": "f7e39fbd",
   "metadata": {},
   "outputs": [
    {
     "name": "stdout",
     "output_type": "stream",
     "text": [
      "Epoch 1/20\n",
      "473/473 [==============================] - 31s 64ms/step - loss: 1.4020 - accuracy: 0.4798 - val_loss: 1.1799 - val_accuracy: 0.5891\n",
      "Epoch 2/20\n",
      "473/473 [==============================] - 29s 61ms/step - loss: 1.1533 - accuracy: 0.6040 - val_loss: 1.1618 - val_accuracy: 0.5979\n",
      "Epoch 3/20\n",
      "473/473 [==============================] - 29s 62ms/step - loss: 1.1142 - accuracy: 0.6178 - val_loss: 1.1082 - val_accuracy: 0.6217\n",
      "Epoch 4/20\n",
      "473/473 [==============================] - 29s 61ms/step - loss: 1.0903 - accuracy: 0.6267 - val_loss: 1.1011 - val_accuracy: 0.6282\n",
      "Epoch 5/20\n",
      "473/473 [==============================] - 28s 60ms/step - loss: 1.0593 - accuracy: 0.6402 - val_loss: 1.0900 - val_accuracy: 0.6340\n",
      "Epoch 6/20\n",
      "473/473 [==============================] - 28s 60ms/step - loss: 1.0414 - accuracy: 0.6459 - val_loss: 1.0484 - val_accuracy: 0.6479\n",
      "Epoch 7/20\n",
      "473/473 [==============================] - 28s 60ms/step - loss: 1.0290 - accuracy: 0.6556 - val_loss: 1.0320 - val_accuracy: 0.6487\n",
      "Epoch 8/20\n",
      "473/473 [==============================] - 29s 61ms/step - loss: 1.0047 - accuracy: 0.6652 - val_loss: 1.0168 - val_accuracy: 0.6541\n",
      "Epoch 9/20\n",
      "473/473 [==============================] - 29s 60ms/step - loss: 1.0073 - accuracy: 0.6632 - val_loss: 1.0241 - val_accuracy: 0.6602\n",
      "Epoch 10/20\n",
      "473/473 [==============================] - 28s 60ms/step - loss: 0.9930 - accuracy: 0.6695 - val_loss: 1.0089 - val_accuracy: 0.6618\n",
      "Epoch 11/20\n",
      "473/473 [==============================] - 29s 60ms/step - loss: 0.9849 - accuracy: 0.6755 - val_loss: 0.9985 - val_accuracy: 0.6671\n",
      "Epoch 12/20\n",
      "473/473 [==============================] - 28s 60ms/step - loss: 0.9781 - accuracy: 0.6815 - val_loss: 1.0096 - val_accuracy: 0.6688\n",
      "Epoch 13/20\n",
      "473/473 [==============================] - 28s 60ms/step - loss: 0.9743 - accuracy: 0.6829 - val_loss: 1.0138 - val_accuracy: 0.6603\n",
      "Epoch 14/20\n",
      "473/473 [==============================] - 29s 60ms/step - loss: 0.9674 - accuracy: 0.6897 - val_loss: 1.0158 - val_accuracy: 0.6651\n",
      "Epoch 15/20\n",
      "473/473 [==============================] - 29s 60ms/step - loss: 0.9690 - accuracy: 0.6881 - val_loss: 1.0039 - val_accuracy: 0.6696\n",
      "Epoch 16/20\n",
      "473/473 [==============================] - 28s 60ms/step - loss: 0.9637 - accuracy: 0.6924 - val_loss: 1.0165 - val_accuracy: 0.6738\n",
      "Epoch 17/20\n",
      "473/473 [==============================] - 28s 60ms/step - loss: 0.9654 - accuracy: 0.6945 - val_loss: 0.9961 - val_accuracy: 0.6788\n",
      "Epoch 18/20\n",
      "473/473 [==============================] - 28s 60ms/step - loss: 0.9702 - accuracy: 0.6925 - val_loss: 1.0166 - val_accuracy: 0.6750\n",
      "Epoch 19/20\n",
      "473/473 [==============================] - 28s 60ms/step - loss: 0.9720 - accuracy: 0.6961 - val_loss: 1.0180 - val_accuracy: 0.6755\n",
      "Epoch 20/20\n",
      "473/473 [==============================] - 28s 60ms/step - loss: 0.9681 - accuracy: 0.6990 - val_loss: 1.0004 - val_accuracy: 0.6800\n"
     ]
    }
   ],
   "source": [
    "from tensorflow.python.keras.callbacks import TensorBoard\n",
    "model = model_build()\n",
    "model.compile(\n",
    "   optimizer = 'adamax',\n",
    "    loss='categorical_crossentropy',\n",
    "    metrics=['accuracy'])\n",
    "\n",
    "#tsb = TensorBoard(log_dir='./logs')\n",
    "history = model.fit(X_train, y_train,\n",
    "          batch_size=128,\n",
    "          epochs=20,\n",
    "          validation_data=(X_val,y_val))"
   ]
  },
  {
   "cell_type": "code",
   "execution_count": 7,
   "id": "692442e3",
   "metadata": {
    "scrolled": false
   },
   "outputs": [
    {
     "data": {
      "image/png": "[encoded data removed]",
      "text/plain": [
       "<Figure size 640x480 with 1 Axes>"
      ]
     },
     "metadata": {},
     "output_type": "display_data"
    }
   ],
   "source": [
    "import matplotlib.pyplot as plt\n",
    "plt.plot(history.epoch, history.history[\"accuracy\"], label=\"accuracy\")\n",
    "plt.plot(history.epoch, history.history[\"loss\"], label=\"loss\")\n",
    "plt.plot(history.epoch, history.history[\"val_accuracy\"], label=\"val_accuracy\")\n",
    "plt.plot(history.epoch, history.history[\"val_loss\"], label=\"val_loss\")\n",
    "plt.xlabel(\"epoch\")\n",
    "plt.legend()\n",
    "plt.show()"
   ]
  },
  {
   "cell_type": "code",
   "execution_count": 8,
   "id": "0fd01eb2",
   "metadata": {},
   "outputs": [
    {
     "name": "stdout",
     "output_type": "stream",
     "text": [
      "Test loss: 1.0014735460281372\n",
      "Test accuracy: 0.6912503242492676\n"
     ]
    }
   ],
   "source": [
    "score = model.evaluate(X_test, y_test, verbose=0,batch_size=128)\n",
    "print('Test loss:', score[0])\n",
    "print('Test accuracy:', score[1])"
   ]
  },
  {
   "cell_type": "code",
   "execution_count": null,
   "id": "cb0a13ce",
   "metadata": {},
   "outputs": [],
   "source": []
  },
  {
   "cell_type": "code",
   "execution_count": null,
   "id": "59b105a7",
   "metadata": {},
   "outputs": [],
   "source": []
  }
 ],
 "metadata": {
  "kernelspec": {
   "display_name": "Python 3",
   "language": "python",
   "name": "python3"
  },
  "language_info": {
   "codemirror_mode": {
    "name": "ipython",
    "version": 3
   },
   "file_extension": ".py",
   "mimetype": "text/x-python",
   "name": "python",
   "nbconvert_exporter": "python",
   "pygments_lexer": "ipython3",
   "version": "3.8.10"
  }
 },
 "nbformat": 4,
 "nbformat_minor": 5
}
