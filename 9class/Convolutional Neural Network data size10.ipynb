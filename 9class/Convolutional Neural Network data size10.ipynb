{
 "cells": [
  {
   "cell_type": "code",
   "execution_count": 1,
   "id": "42eaca98",
   "metadata": {},
   "outputs": [],
   "source": [
    "import csv\n",
    "import pandas as pd\n",
    "import numpy as np\n",
    "import cv2\n",
    "from sklearn.model_selection import train_test_split\n",
    "df = pd.read_csv(\"../../data/data9size10.csv\")\n",
    "y = df['class']"
   ]
  },
  {
   "cell_type": "code",
   "execution_count": 2,
   "id": "b4536d5b",
   "metadata": {},
   "outputs": [],
   "source": [
    "img_list = []\n",
    "size = 96\n",
    "for i in range(len(df)):\n",
    "    img_list.append(cv2.resize(cv2.imread(\"../../\"+df.PATH[i]),(size,size)))\n",
    "    \n",
    "X_train, X_test, y_train, y_test = train_test_split(img_list, y, test_size=0.2,random_state=1)\n",
    "X_test,X_val,y_test,y_val = train_test_split(X_test, y_test, test_size=0.5,random_state=1)"
   ]
  },
  {
   "cell_type": "code",
   "execution_count": 3,
   "id": "ffd8b7e4",
   "metadata": {},
   "outputs": [],
   "source": [
    "from tensorflow.keras.utils import to_categorical\n",
    "X_train,X_val,X_test = np.array(X_train)/255.,np.array(X_val)/255.,np.array(X_test)/255.\n",
    "y_train,y_val,y_test =  to_categorical((np.array(y_train)),9),to_categorical((np.array(y_val)),9),to_categorical((np.array(y_test)),9)"
   ]
  },
  {
   "cell_type": "code",
   "execution_count": 4,
   "id": "aa8ac3a3",
   "metadata": {},
   "outputs": [
    {
     "name": "stdout",
     "output_type": "stream",
     "text": [
      "Model: \"sequential\"\n",
      "_________________________________________________________________\n",
      "Layer (type)                 Output Shape              Param #   \n",
      "=================================================================\n",
      "conv2d (Conv2D)              (None, 94, 94, 8)         224       \n",
      "_________________________________________________________________\n",
      "max_pooling2d (MaxPooling2D) (None, 47, 47, 8)         0         \n",
      "_________________________________________________________________\n",
      "conv2d_1 (Conv2D)            (None, 45, 45, 16)        1168      \n",
      "_________________________________________________________________\n",
      "max_pooling2d_1 (MaxPooling2 (None, 22, 22, 16)        0         \n",
      "_________________________________________________________________\n",
      "conv2d_2 (Conv2D)            (None, 20, 20, 32)        4640      \n",
      "_________________________________________________________________\n",
      "max_pooling2d_2 (MaxPooling2 (None, 10, 10, 32)        0         \n",
      "_________________________________________________________________\n",
      "conv2d_3 (Conv2D)            (None, 8, 8, 64)          18496     \n",
      "_________________________________________________________________\n",
      "max_pooling2d_3 (MaxPooling2 (None, 4, 4, 64)          0         \n",
      "_________________________________________________________________\n",
      "flatten (Flatten)            (None, 1024)              0         \n",
      "_________________________________________________________________\n",
      "dense (Dense)                (None, 64)                65600     \n",
      "_________________________________________________________________\n",
      "dense_1 (Dense)              (None, 9)                 585       \n",
      "=================================================================\n",
      "Total params: 90,713\n",
      "Trainable params: 90,713\n",
      "Non-trainable params: 0\n",
      "_________________________________________________________________\n"
     ]
    }
   ],
   "source": [
    "from tensorflow.keras import layers,models,initializers\n",
    "from tensorflow.keras.preprocessing.image import ImageDataGenerator\n",
    "import tensorflow as tf\n",
    "from tensorflow.keras.models import Sequential\n",
    "from tensorflow.keras.layers import Convolution2D, MaxPooling2D\n",
    "from tensorflow.keras.layers import Activation, Dropout, Flatten, Dense\n",
    "import sys\n",
    "def model_build():\n",
    "    size = 96\n",
    "    factor=1e-5\n",
    "    model = models.Sequential()\n",
    "    model.add(layers.Conv2D(8, (3, 3), activation='relu', kernel_regularizer=l2(factor),input_shape=(size, size, 3)))\n",
    "    model.add(layers.MaxPooling2D((2, 2)))\n",
    "\n",
    "\n",
    "    model.add(layers.Conv2D(16, (3, 3), activation='relu',kernel_regularizer=l2(factor)))\n",
    "    model.add(MaxPooling2D(pool_size=(2, 2)))\n",
    "\n",
    "    model.add(layers.Conv2D(32, (3, 3), activation='relu',kernel_regularizer=l2(factor)))\n",
    "    model.add(MaxPooling2D(pool_size=(2, 2)))\n",
    "\n",
    "\n",
    "    model.add(layers.Conv2D(64, (3, 3), activation='relu',kernel_regularizer=l2(factor)))\n",
    "    model.add(MaxPooling2D(pool_size=(2, 2)))\n",
    "    \n",
    "    model.add(layers.Flatten())\n",
    "    model.add(layers.Dense(64, activation='relu',kernel_regularizer=l2(factor)))\n",
    "    \n",
    "    model.add(layers.Dense(9, activation='softmax'))\n",
    "    #model.summary()\n",
    "    return model\n",
    "from tensorflow.keras.regularizers import l2\n",
    "model = model_build()\n",
    "model.summary()"
   ]
  },
  {
   "cell_type": "code",
   "execution_count": 5,
   "id": "f04c0525",
   "metadata": {},
   "outputs": [
    {
     "name": "stdout",
     "output_type": "stream",
     "text": [
      "Epoch 1/20\n",
      "473/473 [==============================] - 43s 89ms/step - loss: 1.5853 - accuracy: 0.4198 - val_loss: 1.3235 - val_accuracy: 0.5241\n",
      "Epoch 2/20\n",
      "473/473 [==============================] - 39s 83ms/step - loss: 1.2754 - accuracy: 0.5418 - val_loss: 1.1913 - val_accuracy: 0.5589\n",
      "Epoch 3/20\n",
      "473/473 [==============================] - 39s 83ms/step - loss: 1.1548 - accuracy: 0.5834 - val_loss: 1.0880 - val_accuracy: 0.6057\n",
      "Epoch 4/20\n",
      "473/473 [==============================] - 39s 83ms/step - loss: 1.0584 - accuracy: 0.6158 - val_loss: 1.0475 - val_accuracy: 0.6065\n",
      "Epoch 5/20\n",
      "473/473 [==============================] - 39s 83ms/step - loss: 1.0049 - accuracy: 0.6348 - val_loss: 0.9803 - val_accuracy: 0.6402\n",
      "Epoch 6/20\n",
      "473/473 [==============================] - 39s 83ms/step - loss: 0.9557 - accuracy: 0.6520 - val_loss: 0.9710 - val_accuracy: 0.6439\n",
      "Epoch 7/20\n",
      "473/473 [==============================] - 40s 85ms/step - loss: 0.9298 - accuracy: 0.6621 - val_loss: 0.9398 - val_accuracy: 0.6515\n",
      "Epoch 8/20\n",
      "473/473 [==============================] - 39s 82ms/step - loss: 0.9198 - accuracy: 0.6627 - val_loss: 0.9304 - val_accuracy: 0.6553\n",
      "Epoch 9/20\n",
      "473/473 [==============================] - 39s 82ms/step - loss: 0.9011 - accuracy: 0.6687 - val_loss: 0.9183 - val_accuracy: 0.6590\n",
      "Epoch 10/20\n",
      "473/473 [==============================] - 39s 82ms/step - loss: 0.8903 - accuracy: 0.6714 - val_loss: 0.9280 - val_accuracy: 0.6564\n",
      "Epoch 11/20\n",
      "473/473 [==============================] - 39s 83ms/step - loss: 0.8703 - accuracy: 0.6784 - val_loss: 0.8979 - val_accuracy: 0.6631\n",
      "Epoch 12/20\n",
      "473/473 [==============================] - 39s 82ms/step - loss: 0.8621 - accuracy: 0.6821 - val_loss: 0.9120 - val_accuracy: 0.6624\n",
      "Epoch 13/20\n",
      "473/473 [==============================] - 39s 82ms/step - loss: 0.8512 - accuracy: 0.6866 - val_loss: 0.9166 - val_accuracy: 0.6665\n",
      "Epoch 14/20\n",
      "473/473 [==============================] - 39s 83ms/step - loss: 0.8386 - accuracy: 0.6886 - val_loss: 0.9098 - val_accuracy: 0.6599\n",
      "Epoch 15/20\n",
      "473/473 [==============================] - 39s 83ms/step - loss: 0.8256 - accuracy: 0.6953 - val_loss: 0.9344 - val_accuracy: 0.6556\n",
      "Epoch 16/20\n",
      "473/473 [==============================] - 39s 83ms/step - loss: 0.8204 - accuracy: 0.6971 - val_loss: 0.8945 - val_accuracy: 0.6656\n",
      "Epoch 17/20\n",
      "473/473 [==============================] - 40s 85ms/step - loss: 0.8117 - accuracy: 0.7011 - val_loss: 0.9119 - val_accuracy: 0.6632\n",
      "Epoch 18/20\n",
      "473/473 [==============================] - 40s 84ms/step - loss: 0.8051 - accuracy: 0.7013 - val_loss: 0.9013 - val_accuracy: 0.6713\n",
      "Epoch 19/20\n",
      "473/473 [==============================] - 39s 83ms/step - loss: 0.7994 - accuracy: 0.7021 - val_loss: 0.9136 - val_accuracy: 0.6579\n",
      "Epoch 20/20\n",
      "473/473 [==============================] - 39s 83ms/step - loss: 0.7948 - accuracy: 0.7070 - val_loss: 0.9007 - val_accuracy: 0.6652\n"
     ]
    }
   ],
   "source": [
    "from tensorflow.python.keras.callbacks import TensorBoard\n",
    "from tensorflow.keras.regularizers import l2\n",
    "import datetime\n",
    "#model = model_build(1e-5, 0.3)\n",
    "model.compile(\n",
    "   optimizer = 'adam',\n",
    "    loss='categorical_crossentropy',\n",
    "    metrics=['accuracy'])\n",
    "\n",
    "history = model.fit(X_train, y_train,\n",
    "          batch_size=128,\n",
    "          epochs=20,\n",
    "          validation_data=(X_val,y_val))"
   ]
  },
  {
   "cell_type": "code",
   "execution_count": 6,
   "id": "b273a30d",
   "metadata": {},
   "outputs": [
    {
     "data": {
      "image/png": "[encoded data removed]",
      "text/plain": [
       "<Figure size 640x480 with 1 Axes>"
      ]
     },
     "metadata": {},
     "output_type": "display_data"
    }
   ],
   "source": [
    "import matplotlib.pyplot as plt\n",
    "plt.plot(history.epoch, history.history[\"accuracy\"], label=\"accuracy\")\n",
    "plt.plot(history.epoch, history.history[\"loss\"], label=\"loss\")\n",
    "plt.plot(history.epoch, history.history[\"val_accuracy\"], label=\"val_accuracy\")\n",
    "plt.plot(history.epoch, history.history[\"val_loss\"], label=\"val_loss\")\n",
    "plt.xlabel(\"epoch\")\n",
    "plt.legend()\n",
    "plt.show()"
   ]
  },
  {
   "cell_type": "code",
   "execution_count": 7,
   "id": "903b3dc8",
   "metadata": {},
   "outputs": [
    {
     "name": "stdout",
     "output_type": "stream",
     "text": [
      "Test loss: 0.8922814726829529\n",
      "Test accuracy: 0.6724821329116821\n"
     ]
    }
   ],
   "source": [
    "score = model.evaluate(X_test, y_test, verbose=0,batch_size=128)\n",
    "print('Test loss:', score[0])\n",
    "print('Test accuracy:', score[1])"
   ]
  },
  {
   "cell_type": "code",
   "execution_count": null,
   "id": "2657a85a",
   "metadata": {},
   "outputs": [],
   "source": []
  }
 ],
 "metadata": {
  "kernelspec": {
   "display_name": "Python 3",
   "language": "python",
   "name": "python3"
  },
  "language_info": {
   "codemirror_mode": {
    "name": "ipython",
    "version": 3
   },
   "file_extension": ".py",
   "mimetype": "text/x-python",
   "name": "python",
   "nbconvert_exporter": "python",
   "pygments_lexer": "ipython3",
   "version": "3.8.10"
  }
 },
 "nbformat": 4,
 "nbformat_minor": 5
}
