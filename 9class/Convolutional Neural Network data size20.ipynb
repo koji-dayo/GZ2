{
 "cells": [
  {
   "cell_type": "code",
   "execution_count": 1,
   "id": "42eaca98",
   "metadata": {},
   "outputs": [],
   "source": [
    "import csv\n",
    "import pandas as pd\n",
    "import numpy as np\n",
    "import cv2\n",
    "from sklearn.model_selection import train_test_split\n",
    "df = pd.read_csv(\"../../data/data9size20.csv\")\n",
    "y = df['class']"
   ]
  },
  {
   "cell_type": "code",
   "execution_count": 2,
   "id": "b4536d5b",
   "metadata": {},
   "outputs": [],
   "source": [
    "img_list = []\n",
    "size = 96\n",
    "for i in range(len(df)):\n",
    "    img_list.append(cv2.resize(cv2.imread(\"../../\"+df.PATH[i]),(size,size)))\n",
    "    \n",
    "X_train, X_test, y_train, y_test = train_test_split(img_list, y, test_size=0.2,random_state=1)\n",
    "X_test,X_val,y_test,y_val = train_test_split(X_test, y_test, test_size=0.5,random_state=1)"
   ]
  },
  {
   "cell_type": "code",
   "execution_count": 3,
   "id": "ffd8b7e4",
   "metadata": {},
   "outputs": [],
   "source": [
    "from tensorflow.keras.utils import to_categorical\n",
    "X_train,X_val,X_test = np.array(X_train)/255.,np.array(X_val)/255.,np.array(X_test)/255.\n",
    "y_train,y_val,y_test =  to_categorical((np.array(y_train)),9),to_categorical((np.array(y_val)),9),to_categorical((np.array(y_test)),9)"
   ]
  },
  {
   "cell_type": "code",
   "execution_count": 4,
   "id": "aa8ac3a3",
   "metadata": {},
   "outputs": [
    {
     "name": "stdout",
     "output_type": "stream",
     "text": [
      "Model: \"sequential\"\n",
      "_________________________________________________________________\n",
      "Layer (type)                 Output Shape              Param #   \n",
      "=================================================================\n",
      "conv2d (Conv2D)              (None, 94, 94, 8)         224       \n",
      "_________________________________________________________________\n",
      "max_pooling2d (MaxPooling2D) (None, 47, 47, 8)         0         \n",
      "_________________________________________________________________\n",
      "conv2d_1 (Conv2D)            (None, 45, 45, 16)        1168      \n",
      "_________________________________________________________________\n",
      "max_pooling2d_1 (MaxPooling2 (None, 22, 22, 16)        0         \n",
      "_________________________________________________________________\n",
      "conv2d_2 (Conv2D)            (None, 20, 20, 32)        4640      \n",
      "_________________________________________________________________\n",
      "max_pooling2d_2 (MaxPooling2 (None, 10, 10, 32)        0         \n",
      "_________________________________________________________________\n",
      "conv2d_3 (Conv2D)            (None, 8, 8, 64)          18496     \n",
      "_________________________________________________________________\n",
      "max_pooling2d_3 (MaxPooling2 (None, 4, 4, 64)          0         \n",
      "_________________________________________________________________\n",
      "flatten (Flatten)            (None, 1024)              0         \n",
      "_________________________________________________________________\n",
      "dense (Dense)                (None, 64)                65600     \n",
      "_________________________________________________________________\n",
      "dense_1 (Dense)              (None, 9)                 585       \n",
      "=================================================================\n",
      "Total params: 90,713\n",
      "Trainable params: 90,713\n",
      "Non-trainable params: 0\n",
      "_________________________________________________________________\n"
     ]
    }
   ],
   "source": [
    "from tensorflow.keras import layers,models,initializers\n",
    "from tensorflow.keras.preprocessing.image import ImageDataGenerator\n",
    "import tensorflow as tf\n",
    "from tensorflow.keras.models import Sequential\n",
    "from tensorflow.keras.layers import Convolution2D, MaxPooling2D\n",
    "from tensorflow.keras.layers import Activation, Dropout, Flatten, Dense\n",
    "import sys\n",
    "def model_build():\n",
    "    size = 96\n",
    "    factor=1e-5\n",
    "    model = models.Sequential()\n",
    "    model.add(layers.Conv2D(8, (3, 3), activation='relu', kernel_regularizer=l2(factor),input_shape=(size, size, 3)))\n",
    "    model.add(layers.MaxPooling2D((2, 2)))\n",
    "\n",
    "\n",
    "    model.add(layers.Conv2D(16, (3, 3), activation='relu',kernel_regularizer=l2(factor)))\n",
    "    model.add(MaxPooling2D(pool_size=(2, 2)))\n",
    "\n",
    "    model.add(layers.Conv2D(32, (3, 3), activation='relu',kernel_regularizer=l2(factor)))\n",
    "    model.add(MaxPooling2D(pool_size=(2, 2)))\n",
    "\n",
    "\n",
    "    model.add(layers.Conv2D(64, (3, 3), activation='relu',kernel_regularizer=l2(factor)))\n",
    "    model.add(MaxPooling2D(pool_size=(2, 2)))\n",
    "    \n",
    "    model.add(layers.Flatten())\n",
    "    model.add(layers.Dense(64, activation='relu',kernel_regularizer=l2(factor)))\n",
    "    \n",
    "    model.add(layers.Dense(9, activation='softmax'))\n",
    "    #model.summary()\n",
    "    return model\n",
    "from tensorflow.keras.regularizers import l2\n",
    "model = model_build()\n",
    "model.summary()"
   ]
  },
  {
   "cell_type": "code",
   "execution_count": 5,
   "id": "f04c0525",
   "metadata": {},
   "outputs": [
    {
     "name": "stdout",
     "output_type": "stream",
     "text": [
      "Epoch 1/20\n",
      "284/284 [==============================] - 26s 89ms/step - loss: 1.5320 - accuracy: 0.4748 - val_loss: 1.1860 - val_accuracy: 0.5862\n",
      "Epoch 2/20\n",
      "284/284 [==============================] - 23s 82ms/step - loss: 1.2059 - accuracy: 0.5726 - val_loss: 1.1364 - val_accuracy: 0.5977\n",
      "Epoch 3/20\n",
      "284/284 [==============================] - 23s 81ms/step - loss: 1.1549 - accuracy: 0.5897 - val_loss: 1.0954 - val_accuracy: 0.6052\n",
      "Epoch 4/20\n",
      "284/284 [==============================] - 23s 82ms/step - loss: 1.0975 - accuracy: 0.6035 - val_loss: 1.0625 - val_accuracy: 0.6221\n",
      "Epoch 5/20\n",
      "284/284 [==============================] - 23s 82ms/step - loss: 1.0485 - accuracy: 0.6264 - val_loss: 1.0099 - val_accuracy: 0.6303\n",
      "Epoch 6/20\n",
      "284/284 [==============================] - 23s 82ms/step - loss: 0.9986 - accuracy: 0.6390 - val_loss: 0.9617 - val_accuracy: 0.6481\n",
      "Epoch 7/20\n",
      "284/284 [==============================] - 23s 82ms/step - loss: 0.9294 - accuracy: 0.6674 - val_loss: 0.9609 - val_accuracy: 0.6625\n",
      "Epoch 8/20\n",
      "284/284 [==============================] - 23s 82ms/step - loss: 0.8920 - accuracy: 0.6805 - val_loss: 0.8983 - val_accuracy: 0.6739\n",
      "Epoch 9/20\n",
      "284/284 [==============================] - 23s 82ms/step - loss: 0.8635 - accuracy: 0.6877 - val_loss: 0.9120 - val_accuracy: 0.6682\n",
      "Epoch 10/20\n",
      "284/284 [==============================] - 23s 82ms/step - loss: 0.8527 - accuracy: 0.6930 - val_loss: 0.8925 - val_accuracy: 0.6764\n",
      "Epoch 11/20\n",
      "284/284 [==============================] - 23s 82ms/step - loss: 0.8297 - accuracy: 0.6972 - val_loss: 0.9372 - val_accuracy: 0.6592\n",
      "Epoch 12/20\n",
      "284/284 [==============================] - 23s 83ms/step - loss: 0.8231 - accuracy: 0.7035 - val_loss: 0.9081 - val_accuracy: 0.6755\n",
      "Epoch 13/20\n",
      "284/284 [==============================] - 23s 81ms/step - loss: 0.7999 - accuracy: 0.7091 - val_loss: 0.9217 - val_accuracy: 0.6678\n",
      "Epoch 14/20\n",
      "284/284 [==============================] - 23s 81ms/step - loss: 0.7861 - accuracy: 0.7113 - val_loss: 0.8766 - val_accuracy: 0.6801\n",
      "Epoch 15/20\n",
      "284/284 [==============================] - 23s 81ms/step - loss: 0.7712 - accuracy: 0.7193 - val_loss: 0.9202 - val_accuracy: 0.6684\n",
      "Epoch 16/20\n",
      "284/284 [==============================] - 23s 82ms/step - loss: 0.7607 - accuracy: 0.7172 - val_loss: 0.8653 - val_accuracy: 0.6808\n",
      "Epoch 17/20\n",
      "284/284 [==============================] - 24s 83ms/step - loss: 0.7411 - accuracy: 0.7301 - val_loss: 0.8738 - val_accuracy: 0.6775\n",
      "Epoch 18/20\n",
      "284/284 [==============================] - 24s 84ms/step - loss: 0.7511 - accuracy: 0.7208 - val_loss: 0.8661 - val_accuracy: 0.6841\n",
      "Epoch 19/20\n",
      "284/284 [==============================] - 23s 83ms/step - loss: 0.7206 - accuracy: 0.7344 - val_loss: 0.8915 - val_accuracy: 0.6724\n",
      "Epoch 20/20\n",
      "284/284 [==============================] - 24s 85ms/step - loss: 0.7144 - accuracy: 0.7397 - val_loss: 0.8929 - val_accuracy: 0.6753\n"
     ]
    }
   ],
   "source": [
    "from tensorflow.python.keras.callbacks import TensorBoard\n",
    "from tensorflow.keras.regularizers import l2\n",
    "import datetime\n",
    "#model = model_build(1e-5, 0.3)\n",
    "model.compile(\n",
    "   optimizer = 'adam',\n",
    "    loss='categorical_crossentropy',\n",
    "    metrics=['accuracy'])\n",
    "\n",
    "history = model.fit(X_train, y_train,\n",
    "          batch_size=128,\n",
    "          epochs=20,\n",
    "          validation_data=(X_val,y_val))"
   ]
  },
  {
   "cell_type": "code",
   "execution_count": 6,
   "id": "b273a30d",
   "metadata": {},
   "outputs": [
    {
     "data": {
      "image/png": "[encoded data removed]",
      "text/plain": [
       "<Figure size 640x480 with 1 Axes>"
      ]
     },
     "metadata": {},
     "output_type": "display_data"
    }
   ],
   "source": [
    "import matplotlib.pyplot as plt\n",
    "plt.plot(history.epoch, history.history[\"accuracy\"], label=\"accuracy\")\n",
    "plt.plot(history.epoch, history.history[\"loss\"], label=\"loss\")\n",
    "plt.plot(history.epoch, history.history[\"val_accuracy\"], label=\"val_accuracy\")\n",
    "plt.plot(history.epoch, history.history[\"val_loss\"], label=\"val_loss\")\n",
    "plt.xlabel(\"epoch\")\n",
    "plt.legend()\n",
    "plt.show()"
   ]
  },
  {
   "cell_type": "code",
   "execution_count": 7,
   "id": "903b3dc8",
   "metadata": {},
   "outputs": [
    {
     "name": "stdout",
     "output_type": "stream",
     "text": [
      "Test loss: 0.9117498397827148\n",
      "Test accuracy: 0.6809261441230774\n"
     ]
    }
   ],
   "source": [
    "score = model.evaluate(X_test, y_test, verbose=0,batch_size=128)\n",
    "print('Test loss:', score[0])\n",
    "print('Test accuracy:', score[1])"
   ]
  },
  {
   "cell_type": "code",
   "execution_count": null,
   "id": "2657a85a",
   "metadata": {},
   "outputs": [],
   "source": []
  }
 ],
 "metadata": {
  "kernelspec": {
   "display_name": "Python 3",
   "language": "python",
   "name": "python3"
  },
  "language_info": {
   "codemirror_mode": {
    "name": "ipython",
    "version": 3
   },
   "file_extension": ".py",
   "mimetype": "text/x-python",
   "name": "python",
   "nbconvert_exporter": "python",
   "pygments_lexer": "ipython3",
   "version": "3.8.10"
  }
 },
 "nbformat": 4,
 "nbformat_minor": 5
}
