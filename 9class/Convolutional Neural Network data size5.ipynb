{
 "cells": [
  {
   "cell_type": "code",
   "execution_count": 1,
   "id": "42eaca98",
   "metadata": {},
   "outputs": [],
   "source": [
    "import csv\n",
    "import pandas as pd\n",
    "import numpy as np\n",
    "import cv2\n",
    "from sklearn.model_selection import train_test_split\n",
    "df = pd.read_csv(\"../../data/data9size5.csv\")\n",
    "y = df['class']"
   ]
  },
  {
   "cell_type": "code",
   "execution_count": 2,
   "id": "b4536d5b",
   "metadata": {},
   "outputs": [],
   "source": [
    "img_list = []\n",
    "size = 64\n",
    "for i in range(len(df)):\n",
    "    img_list.append(cv2.resize(cv2.imread(\"../../\"+df.PATH[i]),(size,size)))\n",
    "    \n",
    "X_train, X_test, y_train, y_test = train_test_split(img_list, y, test_size=0.2,random_state=1)\n",
    "X_test,X_val,y_test,y_val = train_test_split(X_test, y_test, test_size=0.5,random_state=1)"
   ]
  },
  {
   "cell_type": "code",
   "execution_count": 3,
   "id": "ffd8b7e4",
   "metadata": {},
   "outputs": [],
   "source": [
    "from tensorflow.keras.utils import to_categorical\n",
    "X_train,X_val,X_test = np.array(X_train)/255.,np.array(X_val)/255.,np.array(X_test)/255.\n",
    "y_train,y_val,y_test =  to_categorical((np.array(y_train)),9),to_categorical((np.array(y_val)),9),to_categorical((np.array(y_test)),9)"
   ]
  },
  {
   "cell_type": "code",
   "execution_count": 4,
   "id": "aa8ac3a3",
   "metadata": {},
   "outputs": [
    {
     "name": "stdout",
     "output_type": "stream",
     "text": [
      "Model: \"sequential\"\n",
      "_________________________________________________________________\n",
      "Layer (type)                 Output Shape              Param #   \n",
      "=================================================================\n",
      "conv2d (Conv2D)              (None, 62, 62, 8)         224       \n",
      "_________________________________________________________________\n",
      "max_pooling2d (MaxPooling2D) (None, 31, 31, 8)         0         \n",
      "_________________________________________________________________\n",
      "conv2d_1 (Conv2D)            (None, 29, 29, 16)        1168      \n",
      "_________________________________________________________________\n",
      "max_pooling2d_1 (MaxPooling2 (None, 14, 14, 16)        0         \n",
      "_________________________________________________________________\n",
      "conv2d_2 (Conv2D)            (None, 12, 12, 32)        4640      \n",
      "_________________________________________________________________\n",
      "max_pooling2d_2 (MaxPooling2 (None, 6, 6, 32)          0         \n",
      "_________________________________________________________________\n",
      "conv2d_3 (Conv2D)            (None, 4, 4, 64)          18496     \n",
      "_________________________________________________________________\n",
      "max_pooling2d_3 (MaxPooling2 (None, 2, 2, 64)          0         \n",
      "_________________________________________________________________\n",
      "flatten (Flatten)            (None, 256)               0         \n",
      "_________________________________________________________________\n",
      "dense (Dense)                (None, 64)                16448     \n",
      "_________________________________________________________________\n",
      "dense_1 (Dense)              (None, 9)                 585       \n",
      "=================================================================\n",
      "Total params: 41,561\n",
      "Trainable params: 41,561\n",
      "Non-trainable params: 0\n",
      "_________________________________________________________________\n"
     ]
    }
   ],
   "source": [
    "from tensorflow.keras import layers,models,initializers\n",
    "from tensorflow.keras.preprocessing.image import ImageDataGenerator\n",
    "import tensorflow as tf\n",
    "from tensorflow.keras.models import Sequential\n",
    "from tensorflow.keras.layers import Convolution2D, MaxPooling2D\n",
    "from tensorflow.keras.layers import Activation, Dropout, Flatten, Dense\n",
    "import sys\n",
    "def model_build():\n",
    "    size = 64\n",
    "    factor=1e-5\n",
    "    model = models.Sequential()\n",
    "    model.add(layers.Conv2D(8, (3, 3), activation='relu', kernel_regularizer=l2(factor),input_shape=(size, size, 3)))\n",
    "    model.add(layers.MaxPooling2D((2, 2)))\n",
    "\n",
    "\n",
    "    model.add(layers.Conv2D(16, (3, 3), activation='relu',kernel_regularizer=l2(factor)))\n",
    "    model.add(MaxPooling2D(pool_size=(2, 2)))\n",
    "\n",
    "    model.add(layers.Conv2D(32, (3, 3), activation='relu',kernel_regularizer=l2(factor)))\n",
    "    model.add(MaxPooling2D(pool_size=(2, 2)))\n",
    "\n",
    "\n",
    "    model.add(layers.Conv2D(64, (3, 3), activation='relu',kernel_regularizer=l2(factor)))\n",
    "    model.add(MaxPooling2D(pool_size=(2, 2)))\n",
    "    \n",
    "    model.add(layers.Flatten())\n",
    "    model.add(layers.Dense(64, activation='relu',kernel_regularizer=l2(factor)))\n",
    "    \n",
    "    model.add(layers.Dense(9, activation='softmax'))\n",
    "    #model.summary()\n",
    "    return model\n",
    "from tensorflow.keras.regularizers import l2\n",
    "model = model_build()\n",
    "model.summary()"
   ]
  },
  {
   "cell_type": "code",
   "execution_count": 5,
   "id": "f04c0525",
   "metadata": {},
   "outputs": [
    {
     "name": "stdout",
     "output_type": "stream",
     "text": [
      "Epoch 1/20\n",
      "591/591 [==============================] - 24s 39ms/step - loss: 1.5515 - accuracy: 0.4257 - val_loss: 1.2416 - val_accuracy: 0.5521\n",
      "Epoch 2/20\n",
      "591/591 [==============================] - 21s 36ms/step - loss: 1.1941 - accuracy: 0.5726 - val_loss: 1.1095 - val_accuracy: 0.5999\n",
      "Epoch 3/20\n",
      "591/591 [==============================] - 21s 36ms/step - loss: 1.0725 - accuracy: 0.6146 - val_loss: 1.0364 - val_accuracy: 0.6290\n",
      "Epoch 4/20\n",
      "591/591 [==============================] - 21s 36ms/step - loss: 1.0254 - accuracy: 0.6283 - val_loss: 1.0186 - val_accuracy: 0.6343\n",
      "Epoch 5/20\n",
      "591/591 [==============================] - 21s 36ms/step - loss: 0.9960 - accuracy: 0.6394 - val_loss: 1.0316 - val_accuracy: 0.6329\n",
      "Epoch 6/20\n",
      "591/591 [==============================] - 21s 36ms/step - loss: 0.9748 - accuracy: 0.6475 - val_loss: 0.9943 - val_accuracy: 0.6429\n",
      "Epoch 7/20\n",
      "591/591 [==============================] - 21s 36ms/step - loss: 0.9491 - accuracy: 0.6534 - val_loss: 0.9844 - val_accuracy: 0.6377\n",
      "Epoch 8/20\n",
      "591/591 [==============================] - 22s 36ms/step - loss: 0.9385 - accuracy: 0.6569 - val_loss: 0.9777 - val_accuracy: 0.6442\n",
      "Epoch 9/20\n",
      "591/591 [==============================] - 22s 37ms/step - loss: 0.9240 - accuracy: 0.6618 - val_loss: 0.9416 - val_accuracy: 0.6583\n",
      "Epoch 10/20\n",
      "591/591 [==============================] - 22s 37ms/step - loss: 0.9162 - accuracy: 0.6635 - val_loss: 0.9550 - val_accuracy: 0.6471\n",
      "Epoch 11/20\n",
      "591/591 [==============================] - 22s 37ms/step - loss: 0.9122 - accuracy: 0.6662 - val_loss: 0.9511 - val_accuracy: 0.6550\n",
      "Epoch 12/20\n",
      "591/591 [==============================] - 22s 36ms/step - loss: 0.9082 - accuracy: 0.6647 - val_loss: 0.9411 - val_accuracy: 0.6557\n",
      "Epoch 13/20\n",
      "591/591 [==============================] - 22s 37ms/step - loss: 0.8885 - accuracy: 0.6734 - val_loss: 0.9446 - val_accuracy: 0.6496\n",
      "Epoch 14/20\n",
      "591/591 [==============================] - 21s 36ms/step - loss: 0.8779 - accuracy: 0.6773 - val_loss: 0.9395 - val_accuracy: 0.6550\n",
      "Epoch 15/20\n",
      "591/591 [==============================] - 22s 36ms/step - loss: 0.8735 - accuracy: 0.6785 - val_loss: 0.9297 - val_accuracy: 0.6587\n",
      "Epoch 16/20\n",
      "591/591 [==============================] - 22s 36ms/step - loss: 0.8683 - accuracy: 0.6783 - val_loss: 0.9358 - val_accuracy: 0.6534\n",
      "Epoch 17/20\n",
      "591/591 [==============================] - 22s 37ms/step - loss: 0.8707 - accuracy: 0.6766 - val_loss: 0.9307 - val_accuracy: 0.6613\n",
      "Epoch 18/20\n",
      "591/591 [==============================] - 21s 36ms/step - loss: 0.8640 - accuracy: 0.6816 - val_loss: 0.9369 - val_accuracy: 0.6530\n",
      "Epoch 19/20\n",
      "591/591 [==============================] - 21s 36ms/step - loss: 0.8505 - accuracy: 0.6877 - val_loss: 0.9203 - val_accuracy: 0.6605\n",
      "Epoch 20/20\n",
      "591/591 [==============================] - 21s 36ms/step - loss: 0.8524 - accuracy: 0.6843 - val_loss: 0.9535 - val_accuracy: 0.6469\n"
     ]
    }
   ],
   "source": [
    "from tensorflow.python.keras.callbacks import TensorBoard\n",
    "from tensorflow.keras.regularizers import l2\n",
    "import datetime\n",
    "#model = model_build(1e-5, 0.3)\n",
    "model.compile(\n",
    "   optimizer = 'adam',\n",
    "    loss='categorical_crossentropy',\n",
    "    metrics=['accuracy'])\n",
    "\n",
    "history = model.fit(X_train, y_train,\n",
    "          batch_size=128,\n",
    "          epochs=20,\n",
    "          validation_data=(X_val,y_val))"
   ]
  },
  {
   "cell_type": "code",
   "execution_count": 6,
   "id": "b273a30d",
   "metadata": {},
   "outputs": [
    {
     "data": {
      "image/png": "[encoded data removed]",
      "text/plain": [
       "<Figure size 640x480 with 1 Axes>"
      ]
     },
     "metadata": {},
     "output_type": "display_data"
    }
   ],
   "source": [
    "import matplotlib.pyplot as plt\n",
    "plt.plot(history.epoch, history.history[\"accuracy\"], label=\"accuracy\")\n",
    "plt.plot(history.epoch, history.history[\"loss\"], label=\"loss\")\n",
    "plt.plot(history.epoch, history.history[\"val_accuracy\"], label=\"val_accuracy\")\n",
    "plt.plot(history.epoch, history.history[\"val_loss\"], label=\"val_loss\")\n",
    "plt.xlabel(\"epoch\")\n",
    "plt.legend()\n",
    "plt.show()"
   ]
  },
  {
   "cell_type": "code",
   "execution_count": 7,
   "id": "903b3dc8",
   "metadata": {},
   "outputs": [
    {
     "name": "stdout",
     "output_type": "stream",
     "text": [
      "Test loss: 0.9279558658599854\n",
      "Test accuracy: 0.6583095192909241\n"
     ]
    }
   ],
   "source": [
    "score = model.evaluate(X_test, y_test, verbose=0,batch_size=128)\n",
    "print('Test loss:', score[0])\n",
    "print('Test accuracy:', score[1])"
   ]
  },
  {
   "cell_type": "code",
   "execution_count": null,
   "id": "2657a85a",
   "metadata": {},
   "outputs": [],
   "source": []
  }
 ],
 "metadata": {
  "kernelspec": {
   "display_name": "Python 3",
   "language": "python",
   "name": "python3"
  },
  "language_info": {
   "codemirror_mode": {
    "name": "ipython",
    "version": 3
   },
   "file_extension": ".py",
   "mimetype": "text/x-python",
   "name": "python",
   "nbconvert_exporter": "python",
   "pygments_lexer": "ipython3",
   "version": "3.8.10"
  }
 },
 "nbformat": 4,
 "nbformat_minor": 5
}
